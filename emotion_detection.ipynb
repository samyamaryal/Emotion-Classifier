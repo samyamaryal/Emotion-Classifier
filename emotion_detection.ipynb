{
  "nbformat": 4,
  "nbformat_minor": 0,
  "metadata": {
    "colab": {
      "provenance": [],
      "authorship_tag": "ABX9TyMkzEd3UbhQ5GLzJXiUQk2t",
      "include_colab_link": true
    },
    "kernelspec": {
      "name": "python3",
      "display_name": "Python 3"
    },
    "language_info": {
      "name": "python"
    }
  },
  "cells": [
    {
      "cell_type": "markdown",
      "metadata": {
        "id": "view-in-github",
        "colab_type": "text"
      },
      "source": [
        "<a href=\"https://colab.research.google.com/github/samyamaryal/Emotion-Classifier/blob/main/emotion_detection.ipynb\" target=\"_parent\"><img src=\"https://colab.research.google.com/assets/colab-badge.svg\" alt=\"Open In Colab\"/></a>"
      ]
    },
    {
      "cell_type": "code",
      "execution_count": 102,
      "metadata": {
        "id": "ag20SRYQ0d-K"
      },
      "outputs": [],
      "source": [
        "import pandas as pd\n",
        "import numpy as np\n",
        "import tensorflow\n",
        "import sklearn\n",
        "import string\n",
        "import matplotlib.pyplot as plt\n",
        "from sklearn.model_selection import train_test_split"
      ]
    },
    {
      "cell_type": "code",
      "source": [
        "import nltk\n",
        "# The NLTK data package includes a pre-trained Punkt tokenizer for English.\n",
        "# punkt had to be manually downloaded using the command below\n",
        "# same with stopwords\n",
        "nltk.download('punkt')\n",
        "from nltk.tokenize import word_tokenize\n",
        "from nltk.corpus import stopwords\n",
        "nltk.download('stopwords')"
      ],
      "metadata": {
        "colab": {
          "base_uri": "https://localhost:8080/"
        },
        "id": "CNKXwCdjE-Zd",
        "outputId": "261dd543-42db-4da7-b27c-542af6d6be81"
      },
      "execution_count": 2,
      "outputs": [
        {
          "output_type": "stream",
          "name": "stderr",
          "text": [
            "[nltk_data] Downloading package punkt to /root/nltk_data...\n",
            "[nltk_data]   Unzipping tokenizers/punkt.zip.\n",
            "[nltk_data] Downloading package stopwords to /root/nltk_data...\n",
            "[nltk_data]   Unzipping corpora/stopwords.zip.\n"
          ]
        },
        {
          "output_type": "execute_result",
          "data": {
            "text/plain": [
              "True"
            ]
          },
          "metadata": {},
          "execution_count": 2
        }
      ]
    },
    {
      "cell_type": "code",
      "source": [
        "df = pd.read_csv('ISEAR.csv')"
      ],
      "metadata": {
        "id": "4YTr1jJo-Nvz"
      },
      "execution_count": 3,
      "outputs": []
    },
    {
      "cell_type": "code",
      "source": [
        "df.head()"
      ],
      "metadata": {
        "colab": {
          "base_uri": "https://localhost:8080/",
          "height": 285
        },
        "id": "teCwA3K6-iBy",
        "outputId": "93b5c6f0-7aa2-441c-caf9-5f8c698862c7"
      },
      "execution_count": 4,
      "outputs": [
        {
          "output_type": "execute_result",
          "data": {
            "text/plain": [
              "   0      joy  \\\n",
              "0  1     fear   \n",
              "1  2    anger   \n",
              "2  3  sadness   \n",
              "3  4  disgust   \n",
              "4  5    shame   \n",
              "\n",
              "  On days when I feel close to my partner and other friends.   \\nWhen I feel at peace with myself and also experience a close  \\ncontact with people whom I regard greatly.  \n",
              "0  Every time I imagine that someone I love or I ...                                                                                                                         \n",
              "1  When I had been obviously unjustly treated and...                                                                                                                         \n",
              "2  When I think about the short time that we live...                                                                                                                         \n",
              "3  At a gathering I found myself involuntarily si...                                                                                                                         \n",
              "4  When I realized that I was directing the feeli...                                                                                                                         "
            ],
            "text/html": [
              "\n",
              "  <div id=\"df-01e860d0-b395-4240-b4ca-58110de2bdd9\">\n",
              "    <div class=\"colab-df-container\">\n",
              "      <div>\n",
              "<style scoped>\n",
              "    .dataframe tbody tr th:only-of-type {\n",
              "        vertical-align: middle;\n",
              "    }\n",
              "\n",
              "    .dataframe tbody tr th {\n",
              "        vertical-align: top;\n",
              "    }\n",
              "\n",
              "    .dataframe thead th {\n",
              "        text-align: right;\n",
              "    }\n",
              "</style>\n",
              "<table border=\"1\" class=\"dataframe\">\n",
              "  <thead>\n",
              "    <tr style=\"text-align: right;\">\n",
              "      <th></th>\n",
              "      <th>0</th>\n",
              "      <th>joy</th>\n",
              "      <th>On days when I feel close to my partner and other friends.   \\nWhen I feel at peace with myself and also experience a close  \\ncontact with people whom I regard greatly.</th>\n",
              "    </tr>\n",
              "  </thead>\n",
              "  <tbody>\n",
              "    <tr>\n",
              "      <th>0</th>\n",
              "      <td>1</td>\n",
              "      <td>fear</td>\n",
              "      <td>Every time I imagine that someone I love or I ...</td>\n",
              "    </tr>\n",
              "    <tr>\n",
              "      <th>1</th>\n",
              "      <td>2</td>\n",
              "      <td>anger</td>\n",
              "      <td>When I had been obviously unjustly treated and...</td>\n",
              "    </tr>\n",
              "    <tr>\n",
              "      <th>2</th>\n",
              "      <td>3</td>\n",
              "      <td>sadness</td>\n",
              "      <td>When I think about the short time that we live...</td>\n",
              "    </tr>\n",
              "    <tr>\n",
              "      <th>3</th>\n",
              "      <td>4</td>\n",
              "      <td>disgust</td>\n",
              "      <td>At a gathering I found myself involuntarily si...</td>\n",
              "    </tr>\n",
              "    <tr>\n",
              "      <th>4</th>\n",
              "      <td>5</td>\n",
              "      <td>shame</td>\n",
              "      <td>When I realized that I was directing the feeli...</td>\n",
              "    </tr>\n",
              "  </tbody>\n",
              "</table>\n",
              "</div>\n",
              "      <button class=\"colab-df-convert\" onclick=\"convertToInteractive('df-01e860d0-b395-4240-b4ca-58110de2bdd9')\"\n",
              "              title=\"Convert this dataframe to an interactive table.\"\n",
              "              style=\"display:none;\">\n",
              "        \n",
              "  <svg xmlns=\"http://www.w3.org/2000/svg\" height=\"24px\"viewBox=\"0 0 24 24\"\n",
              "       width=\"24px\">\n",
              "    <path d=\"M0 0h24v24H0V0z\" fill=\"none\"/>\n",
              "    <path d=\"M18.56 5.44l.94 2.06.94-2.06 2.06-.94-2.06-.94-.94-2.06-.94 2.06-2.06.94zm-11 1L8.5 8.5l.94-2.06 2.06-.94-2.06-.94L8.5 2.5l-.94 2.06-2.06.94zm10 10l.94 2.06.94-2.06 2.06-.94-2.06-.94-.94-2.06-.94 2.06-2.06.94z\"/><path d=\"M17.41 7.96l-1.37-1.37c-.4-.4-.92-.59-1.43-.59-.52 0-1.04.2-1.43.59L10.3 9.45l-7.72 7.72c-.78.78-.78 2.05 0 2.83L4 21.41c.39.39.9.59 1.41.59.51 0 1.02-.2 1.41-.59l7.78-7.78 2.81-2.81c.8-.78.8-2.07 0-2.86zM5.41 20L4 18.59l7.72-7.72 1.47 1.35L5.41 20z\"/>\n",
              "  </svg>\n",
              "      </button>\n",
              "      \n",
              "  <style>\n",
              "    .colab-df-container {\n",
              "      display:flex;\n",
              "      flex-wrap:wrap;\n",
              "      gap: 12px;\n",
              "    }\n",
              "\n",
              "    .colab-df-convert {\n",
              "      background-color: #E8F0FE;\n",
              "      border: none;\n",
              "      border-radius: 50%;\n",
              "      cursor: pointer;\n",
              "      display: none;\n",
              "      fill: #1967D2;\n",
              "      height: 32px;\n",
              "      padding: 0 0 0 0;\n",
              "      width: 32px;\n",
              "    }\n",
              "\n",
              "    .colab-df-convert:hover {\n",
              "      background-color: #E2EBFA;\n",
              "      box-shadow: 0px 1px 2px rgba(60, 64, 67, 0.3), 0px 1px 3px 1px rgba(60, 64, 67, 0.15);\n",
              "      fill: #174EA6;\n",
              "    }\n",
              "\n",
              "    [theme=dark] .colab-df-convert {\n",
              "      background-color: #3B4455;\n",
              "      fill: #D2E3FC;\n",
              "    }\n",
              "\n",
              "    [theme=dark] .colab-df-convert:hover {\n",
              "      background-color: #434B5C;\n",
              "      box-shadow: 0px 1px 3px 1px rgba(0, 0, 0, 0.15);\n",
              "      filter: drop-shadow(0px 1px 2px rgba(0, 0, 0, 0.3));\n",
              "      fill: #FFFFFF;\n",
              "    }\n",
              "  </style>\n",
              "\n",
              "      <script>\n",
              "        const buttonEl =\n",
              "          document.querySelector('#df-01e860d0-b395-4240-b4ca-58110de2bdd9 button.colab-df-convert');\n",
              "        buttonEl.style.display =\n",
              "          google.colab.kernel.accessAllowed ? 'block' : 'none';\n",
              "\n",
              "        async function convertToInteractive(key) {\n",
              "          const element = document.querySelector('#df-01e860d0-b395-4240-b4ca-58110de2bdd9');\n",
              "          const dataTable =\n",
              "            await google.colab.kernel.invokeFunction('convertToInteractive',\n",
              "                                                     [key], {});\n",
              "          if (!dataTable) return;\n",
              "\n",
              "          const docLinkHtml = 'Like what you see? Visit the ' +\n",
              "            '<a target=\"_blank\" href=https://colab.research.google.com/notebooks/data_table.ipynb>data table notebook</a>'\n",
              "            + ' to learn more about interactive tables.';\n",
              "          element.innerHTML = '';\n",
              "          dataTable['output_type'] = 'display_data';\n",
              "          await google.colab.output.renderOutput(dataTable, element);\n",
              "          const docLink = document.createElement('div');\n",
              "          docLink.innerHTML = docLinkHtml;\n",
              "          element.appendChild(docLink);\n",
              "        }\n",
              "      </script>\n",
              "    </div>\n",
              "  </div>\n",
              "  "
            ]
          },
          "metadata": {},
          "execution_count": 4
        }
      ]
    },
    {
      "cell_type": "code",
      "source": [
        "#Renaming the columns\n",
        "df.columns = ['No', 'emotion', 'word']\n",
        "df.head()"
      ],
      "metadata": {
        "colab": {
          "base_uri": "https://localhost:8080/",
          "height": 206
        },
        "id": "upR32POV-X4x",
        "outputId": "e563ad28-1eb0-443d-e529-a3babcea33d6"
      },
      "execution_count": 5,
      "outputs": [
        {
          "output_type": "execute_result",
          "data": {
            "text/plain": [
              "   No  emotion                                               word\n",
              "0   1     fear  Every time I imagine that someone I love or I ...\n",
              "1   2    anger  When I had been obviously unjustly treated and...\n",
              "2   3  sadness  When I think about the short time that we live...\n",
              "3   4  disgust  At a gathering I found myself involuntarily si...\n",
              "4   5    shame  When I realized that I was directing the feeli..."
            ],
            "text/html": [
              "\n",
              "  <div id=\"df-3174478e-34fd-49b5-8749-6dc1797a335f\">\n",
              "    <div class=\"colab-df-container\">\n",
              "      <div>\n",
              "<style scoped>\n",
              "    .dataframe tbody tr th:only-of-type {\n",
              "        vertical-align: middle;\n",
              "    }\n",
              "\n",
              "    .dataframe tbody tr th {\n",
              "        vertical-align: top;\n",
              "    }\n",
              "\n",
              "    .dataframe thead th {\n",
              "        text-align: right;\n",
              "    }\n",
              "</style>\n",
              "<table border=\"1\" class=\"dataframe\">\n",
              "  <thead>\n",
              "    <tr style=\"text-align: right;\">\n",
              "      <th></th>\n",
              "      <th>No</th>\n",
              "      <th>emotion</th>\n",
              "      <th>word</th>\n",
              "    </tr>\n",
              "  </thead>\n",
              "  <tbody>\n",
              "    <tr>\n",
              "      <th>0</th>\n",
              "      <td>1</td>\n",
              "      <td>fear</td>\n",
              "      <td>Every time I imagine that someone I love or I ...</td>\n",
              "    </tr>\n",
              "    <tr>\n",
              "      <th>1</th>\n",
              "      <td>2</td>\n",
              "      <td>anger</td>\n",
              "      <td>When I had been obviously unjustly treated and...</td>\n",
              "    </tr>\n",
              "    <tr>\n",
              "      <th>2</th>\n",
              "      <td>3</td>\n",
              "      <td>sadness</td>\n",
              "      <td>When I think about the short time that we live...</td>\n",
              "    </tr>\n",
              "    <tr>\n",
              "      <th>3</th>\n",
              "      <td>4</td>\n",
              "      <td>disgust</td>\n",
              "      <td>At a gathering I found myself involuntarily si...</td>\n",
              "    </tr>\n",
              "    <tr>\n",
              "      <th>4</th>\n",
              "      <td>5</td>\n",
              "      <td>shame</td>\n",
              "      <td>When I realized that I was directing the feeli...</td>\n",
              "    </tr>\n",
              "  </tbody>\n",
              "</table>\n",
              "</div>\n",
              "      <button class=\"colab-df-convert\" onclick=\"convertToInteractive('df-3174478e-34fd-49b5-8749-6dc1797a335f')\"\n",
              "              title=\"Convert this dataframe to an interactive table.\"\n",
              "              style=\"display:none;\">\n",
              "        \n",
              "  <svg xmlns=\"http://www.w3.org/2000/svg\" height=\"24px\"viewBox=\"0 0 24 24\"\n",
              "       width=\"24px\">\n",
              "    <path d=\"M0 0h24v24H0V0z\" fill=\"none\"/>\n",
              "    <path d=\"M18.56 5.44l.94 2.06.94-2.06 2.06-.94-2.06-.94-.94-2.06-.94 2.06-2.06.94zm-11 1L8.5 8.5l.94-2.06 2.06-.94-2.06-.94L8.5 2.5l-.94 2.06-2.06.94zm10 10l.94 2.06.94-2.06 2.06-.94-2.06-.94-.94-2.06-.94 2.06-2.06.94z\"/><path d=\"M17.41 7.96l-1.37-1.37c-.4-.4-.92-.59-1.43-.59-.52 0-1.04.2-1.43.59L10.3 9.45l-7.72 7.72c-.78.78-.78 2.05 0 2.83L4 21.41c.39.39.9.59 1.41.59.51 0 1.02-.2 1.41-.59l7.78-7.78 2.81-2.81c.8-.78.8-2.07 0-2.86zM5.41 20L4 18.59l7.72-7.72 1.47 1.35L5.41 20z\"/>\n",
              "  </svg>\n",
              "      </button>\n",
              "      \n",
              "  <style>\n",
              "    .colab-df-container {\n",
              "      display:flex;\n",
              "      flex-wrap:wrap;\n",
              "      gap: 12px;\n",
              "    }\n",
              "\n",
              "    .colab-df-convert {\n",
              "      background-color: #E8F0FE;\n",
              "      border: none;\n",
              "      border-radius: 50%;\n",
              "      cursor: pointer;\n",
              "      display: none;\n",
              "      fill: #1967D2;\n",
              "      height: 32px;\n",
              "      padding: 0 0 0 0;\n",
              "      width: 32px;\n",
              "    }\n",
              "\n",
              "    .colab-df-convert:hover {\n",
              "      background-color: #E2EBFA;\n",
              "      box-shadow: 0px 1px 2px rgba(60, 64, 67, 0.3), 0px 1px 3px 1px rgba(60, 64, 67, 0.15);\n",
              "      fill: #174EA6;\n",
              "    }\n",
              "\n",
              "    [theme=dark] .colab-df-convert {\n",
              "      background-color: #3B4455;\n",
              "      fill: #D2E3FC;\n",
              "    }\n",
              "\n",
              "    [theme=dark] .colab-df-convert:hover {\n",
              "      background-color: #434B5C;\n",
              "      box-shadow: 0px 1px 3px 1px rgba(0, 0, 0, 0.15);\n",
              "      filter: drop-shadow(0px 1px 2px rgba(0, 0, 0, 0.3));\n",
              "      fill: #FFFFFF;\n",
              "    }\n",
              "  </style>\n",
              "\n",
              "      <script>\n",
              "        const buttonEl =\n",
              "          document.querySelector('#df-3174478e-34fd-49b5-8749-6dc1797a335f button.colab-df-convert');\n",
              "        buttonEl.style.display =\n",
              "          google.colab.kernel.accessAllowed ? 'block' : 'none';\n",
              "\n",
              "        async function convertToInteractive(key) {\n",
              "          const element = document.querySelector('#df-3174478e-34fd-49b5-8749-6dc1797a335f');\n",
              "          const dataTable =\n",
              "            await google.colab.kernel.invokeFunction('convertToInteractive',\n",
              "                                                     [key], {});\n",
              "          if (!dataTable) return;\n",
              "\n",
              "          const docLinkHtml = 'Like what you see? Visit the ' +\n",
              "            '<a target=\"_blank\" href=https://colab.research.google.com/notebooks/data_table.ipynb>data table notebook</a>'\n",
              "            + ' to learn more about interactive tables.';\n",
              "          element.innerHTML = '';\n",
              "          dataTable['output_type'] = 'display_data';\n",
              "          await google.colab.output.renderOutput(dataTable, element);\n",
              "          const docLink = document.createElement('div');\n",
              "          docLink.innerHTML = docLinkHtml;\n",
              "          element.appendChild(docLink);\n",
              "        }\n",
              "      </script>\n",
              "    </div>\n",
              "  </div>\n",
              "  "
            ]
          },
          "metadata": {},
          "execution_count": 5
        }
      ]
    },
    {
      "cell_type": "code",
      "source": [
        "emotion_labels = df['emotion']\n",
        "sentences = df['word']"
      ],
      "metadata": {
        "id": "Nu9QY05c_3DR"
      },
      "execution_count": 6,
      "outputs": []
    },
    {
      "cell_type": "markdown",
      "source": [
        "We need to create an embedding vector for all the words. But before that, let us preprocess the text."
      ],
      "metadata": {
        "id": "luamq-oxAY4L"
      }
    },
    {
      "cell_type": "markdown",
      "source": [
        "DATAFRAME PREPROCESSING DONE"
      ],
      "metadata": {
        "id": "dxWDto3CPSta"
      }
    },
    {
      "cell_type": "markdown",
      "source": [
        "CORPUS PREPROCESSING"
      ],
      "metadata": {
        "id": "N_jD_ZnnPVKm"
      }
    },
    {
      "cell_type": "code",
      "source": [
        "#Lowercase\n",
        "\n",
        "sentences = sentences.apply(lambda x: x.lower())\n",
        "sentences"
      ],
      "metadata": {
        "colab": {
          "base_uri": "https://localhost:8080/"
        },
        "id": "z22Cdo3pAVeH",
        "outputId": "57090d89-328e-490a-b0e9-cf382994f1d7"
      },
      "execution_count": 7,
      "outputs": [
        {
          "output_type": "execute_result",
          "data": {
            "text/plain": [
              "0       every time i imagine that someone i love or i ...\n",
              "1       when i had been obviously unjustly treated and...\n",
              "2       when i think about the short time that we live...\n",
              "3       at a gathering i found myself involuntarily si...\n",
              "4       when i realized that i was directing the feeli...\n",
              "                              ...                        \n",
              "7440    last week i had planned to play tennis and had...\n",
              "7441    when i was ill and had to stay at the hospital...\n",
              "7442    a few days back i was waiting for the bus at t...\n",
              "7443    a few days back i had a tutorial class and the...\n",
              "7444    once i quarrelled with my sister and after thi...\n",
              "Name: word, Length: 7445, dtype: object"
            ]
          },
          "metadata": {},
          "execution_count": 7
        }
      ]
    },
    {
      "cell_type": "code",
      "source": [
        "#Punctuation removal\n",
        "\n",
        "def removepunctuation(sentence):\n",
        "  #iterate over every single character to see if it is a punctuation or not, and then concatenate them using \"join\"\n",
        "   punctuationfree=\"\".join([i for i in sentence if i not in string.punctuation])\n",
        "   return punctuationfree\n",
        "\n",
        "sentences = sentences.apply(removepunctuation)"
      ],
      "metadata": {
        "id": "fFW-1GXGF2Mu"
      },
      "execution_count": 11,
      "outputs": []
    },
    {
      "cell_type": "code",
      "source": [
        "sentences"
      ],
      "metadata": {
        "colab": {
          "base_uri": "https://localhost:8080/"
        },
        "id": "8vywkps2riVf",
        "outputId": "a448d23d-dda4-4659-e756-45bc26868353"
      },
      "execution_count": 12,
      "outputs": [
        {
          "output_type": "execute_result",
          "data": {
            "text/plain": [
              "0       every time i imagine that someone i love or i ...\n",
              "1       when i had been obviously unjustly treated and...\n",
              "2       when i think about the short time that we live...\n",
              "3       at a gathering i found myself involuntarily si...\n",
              "4       when i realized that i was directing the feeli...\n",
              "                              ...                        \n",
              "7440    last week i had planned to play tennis and had...\n",
              "7441    when i was ill and had to stay at the hospital...\n",
              "7442    a few days back i was waiting for the bus at t...\n",
              "7443    a few days back i had a tutorial class and the...\n",
              "7444    once i quarrelled with my sister and after thi...\n",
              "Name: word, Length: 7445, dtype: object"
            ]
          },
          "metadata": {},
          "execution_count": 12
        }
      ]
    },
    {
      "cell_type": "code",
      "source": [
        "#Tokenization\n",
        "\n",
        "sentences = sentences.apply(word_tokenize)"
      ],
      "metadata": {
        "id": "cCKCcdux6Xkj"
      },
      "execution_count": 13,
      "outputs": []
    },
    {
      "cell_type": "code",
      "source": [
        "index = 55\n",
        "print(sentences[index], emotion_labels[index])"
      ],
      "metadata": {
        "id": "-w0assCv5vq6",
        "colab": {
          "base_uri": "https://localhost:8080/"
        },
        "outputId": "c698fc74-d862-4845-867f-3aa95ad9946e"
      },
      "execution_count": 18,
      "outputs": [
        {
          "output_type": "stream",
          "name": "stdout",
          "text": [
            "['i', 'told', 'a', 'friend', 'that', 'i', 'was', 'going', 'to', 'a', 'party', 'and', 'he', 'would', 'not', 'enjoy', 'himself', 'if', 'he', 'came', 'along', 'he', 'understood', 'that', 'he', 'would', 'not', 'have', 'fitted', 'in', 'and', 'there', 'was', 'something', 'in', 'that'] shame\n"
          ]
        }
      ]
    },
    {
      "cell_type": "code",
      "source": [
        "stop_words = stopwords.words('english')\n",
        "len(stop_words)"
      ],
      "metadata": {
        "colab": {
          "base_uri": "https://localhost:8080/"
        },
        "id": "bv9TF0yNNDPw",
        "outputId": "899ef3ca-fb88-4fb4-f2dc-c1c22e2d61ee"
      },
      "execution_count": 36,
      "outputs": [
        {
          "output_type": "execute_result",
          "data": {
            "text/plain": [
              "179"
            ]
          },
          "metadata": {},
          "execution_count": 36
        }
      ]
    },
    {
      "cell_type": "code",
      "source": [
        "# there are a lot of stopwords in this dataset. let us remove that using stopwords from nltk\n",
        "\n",
        "preprocessed_tokens = []\n",
        "\n",
        "def stopwordremoval(words):\n",
        "  for i in words:\n",
        "    # iterate over each individual element in the dataframe, and return a list of elements that do not contain stop words\n",
        "    post_removal = [word for word in i if word not in stop_words]\n",
        "    # remove commas from the post_removal list\n",
        "    list_of_tokens = [\" \".join(post_removal)]\n",
        "    # generate a list that contains all the tokens' list\n",
        "    preprocessed_tokens.append(list_of_tokens)\n",
        "  return preprocessed_tokens\n"
      ],
      "metadata": {
        "id": "r-TNBFPmLmuk"
      },
      "execution_count": 46,
      "outputs": []
    },
    {
      "cell_type": "code",
      "source": [
        "prepro = []\n",
        "prepro = stopwordremoval(sentences)"
      ],
      "metadata": {
        "id": "S22hk7BIyNRr"
      },
      "execution_count": 47,
      "outputs": []
    },
    {
      "cell_type": "markdown",
      "source": [
        "CORPUS PREPROCESSED, NOW WE VECTORIZE"
      ],
      "metadata": {
        "id": "GC8U_se9Pr5z"
      }
    },
    {
      "cell_type": "code",
      "source": [
        "len(prepro)"
      ],
      "metadata": {
        "colab": {
          "base_uri": "https://localhost:8080/"
        },
        "id": "ZcSGCb-gQ9Ta",
        "outputId": "2ce661e8-12d0-45ab-ad98-aa071721ca02"
      },
      "execution_count": 48,
      "outputs": [
        {
          "output_type": "execute_result",
          "data": {
            "text/plain": [
              "7445"
            ]
          },
          "metadata": {},
          "execution_count": 48
        }
      ]
    },
    {
      "cell_type": "code",
      "source": [
        "prepro"
      ],
      "metadata": {
        "colab": {
          "base_uri": "https://localhost:8080/"
        },
        "id": "NMJEPrtcvDxf",
        "outputId": "501c574a-1d95-47f7-e197-9f5c2f8cddb8"
      },
      "execution_count": 49,
      "outputs": [
        {
          "output_type": "execute_result",
          "data": {
            "text/plain": [
              "[['every time imagine someone love could contact serious illness even death'],\n",
              " ['obviously unjustly treated possibility elucidating'],\n",
              " ['think short time live relate periods life think use short time'],\n",
              " ['gathering found involuntarily sitting next two people expressed opinions considered low discriminating'],\n",
              " ['realized directing feelings discontent partner way trying put blame instead sorting feeliings'],\n",
              " ['feel guilty realize consider material things important caring relatives feel selfcentered'],\n",
              " ['girlfriend taken exam went parents place'],\n",
              " ['first time realized meaning death'],\n",
              " ['car overtaking another forced drive road'],\n",
              " ['recently thought hard work takes study one wants try something else read theoretical book english understand'],\n",
              " ['found bristle liver paste tube'],\n",
              " ['tired unmotivated shouted girlfriend brought negative sides character actually important'],\n",
              " ['think study enough weekend think able accomplished something time'],\n",
              " ['pass examination think well'],\n",
              " ['one arranged meet someone person arrives late meantime one starts thinking could gone wrong eg traffic accident'],\n",
              " ['one unjustly accused something one done'],\n",
              " ['ones studies seem hopelessly difficult uninteresting'],\n",
              " ['one finds someone know like one thought instance friends steal things like quite unwarranted'],\n",
              " ['one unjust stupid towards someone else'],\n",
              " ['one neglected unjust good friend'],\n",
              " ['passing exam expect pass'],\n",
              " ['climbed tree pick apples angle ladder enable get high enough implied ladder stable'],\n",
              " ['excuses necessary get'],\n",
              " ['children'],\n",
              " ['2 year old son climbed sat 7th floor balcony legs hanging holding tightly upper railing balcony could easily lost balance sat'],\n",
              " ['partner attacked lost three teeth'],\n",
              " ['see children tv areas devastated drought war'],\n",
              " ['nearly walked blindworm saw crawl away'],\n",
              " ['saw 18 year old son grab oxygen mask breathing difficulties bad conscience stopped smoking medication dilation breathing tubes also caused sense guilt'],\n",
              " ['experience sense guilt middle son express like children neither verbally writing'],\n",
              " ['child born'],\n",
              " ['spring ice melting far jetty poked ice long branch try break branch went ice fell water closed head'],\n",
              " ['unjust accusations directed way acting someone close'],\n",
              " ['failing examination'],\n",
              " ['drunkard fell started bleeding wet disgust turned sadnessunpleasantness'],\n",
              " ['adult caught lying behaving badly'],\n",
              " ['environment person much worse realize privileged'],\n",
              " ['saw person seen long time'],\n",
              " ['child nearly knocked car'],\n",
              " ['heard radio football match belgium ended catastrophe several people died could understand normal people could behave way'],\n",
              " ['feel lonely perhaps study lot shut appartment nothing happens particular time anything else'],\n",
              " ['one learns mass media wars killing going world'],\n",
              " ['lied precise cancelled meeting good friend'],\n",
              " ['one lets friends'],\n",
              " ['accepted course finance accounting'],\n",
              " ['bus drove right leg event frightening wait emergency ward three hours leg began swell frightened'],\n",
              " ['summer job nobody looked particular learn'],\n",
              " ['accepted student finance accounting'],\n",
              " ['moved new appartment found ventilator kitchen going clean found drum full mud slime felt disgusted'],\n",
              " ['elder brother always good relationship feel ashamed call talk nowadays'],\n",
              " ['summer job new caretaker employed age preferred going lunch accounts personnel rather'],\n",
              " ['passed exam 2 points'],\n",
              " ['cottage large forest alone dark'],\n",
              " ['railway station goodbye'],\n",
              " ['saw cripple rags small children italy probably imposter'],\n",
              " ['told friend going party would enjoy came along understood would fitted something'],\n",
              " ['reason behind breakup friends relationship girlfriend finished'],\n",
              " ['passed exam absolutely certain failed'],\n",
              " ['way back denmark friend small yatch storm friend blown overboard scared till managed get back onboard'],\n",
              " ['locked'],\n",
              " ['missed last tram home walk pouring rain'],\n",
              " ['found worms food obviously eaten'],\n",
              " ['friend intoxicated police came took away later contacted parents'],\n",
              " ['hapened overhear something meant hear'],\n",
              " ['trip greece competition'],\n",
              " ['dark suspicious looking character comes towards'],\n",
              " ['work elderly man complained unjustifiably distrusted'],\n",
              " ['understood anything lecture'],\n",
              " ['alcoholic stood dribbling food counter'],\n",
              " ['friend discussing good looks guy realized listening'],\n",
              " ['complained colleague manager told someone complained colleague came believing liked'],\n",
              " ['friends birthday party closest friends pleasant one could say happy good friends'],\n",
              " ['way home one friday night heavy rain car acquaplanned lost contact road surface seconds'],\n",
              " ['mad dad'],\n",
              " ['case unrequited love'],\n",
              " ['bad smelling cucumber'],\n",
              " ['nearly caught masturbating'],\n",
              " ['help enough home'],\n",
              " ['felt happy football pools'],\n",
              " ['flew athens copenhagen holiday plane caught storm began shake thouhght going crash'],\n",
              " ['someone stole bike'],\n",
              " ['saw list books read acccouting course thought oh god ever manaage'],\n",
              " ['read newspaper article future foresaw would eating frogburgers year 2000 illustration showed frog two pieces bread'],\n",
              " ['dropped bottle state liquor store everyboby started laughing'],\n",
              " ['young 14 pinched store caught store contacted parents'],\n",
              " ['whole family gets together one week holiday everybody feels free trip well planned works well enjoy'],\n",
              " ['could find 2 year old daughter ran looked everywhere could find finally found gone bed sleep'],\n",
              " ['friends try put hurt'],\n",
              " ['marriage crises boredom'],\n",
              " ['someone makes advances one want'],\n",
              " ['discovery one thought oneself'],\n",
              " ['spanked child anger later regretted terribly'],\n",
              " ['passed first examination repeat'],\n",
              " ['drove stockholm first time drove stora hissingen road wrong exit'],\n",
              " ['boyfriend went away month long holiday without'],\n",
              " ['last year worked summer holidays studied time examination repeat boyfriend went greece holiday month'],\n",
              " ['dog left whining outside shop'],\n",
              " ['promised help friend weekend keep promise'],\n",
              " ['realized three examinations take'],\n",
              " ['day told accepted student economics'],\n",
              " ['taking short cut vasa park surrounded three people tried steal money scared saved appearance people'],\n",
              " ['restaurant observed gypsies tried get money cheating foreigners ie non swedish speaking anger nothing hatred foreigners expression anger feel see people used'],\n",
              " ['begining new course one afraid encountering problems one manage thoughts revolve around failing subject consequences would future'],\n",
              " ['walking town noticed police harrassed man influence alcohol terrified thought arrest driving close behind pedestrian street disgust directed gestures facial expressions policemen seemed enjoying'],\n",
              " ['boyfriend revealed knew discovered things important nature felt ashamed mentioned earlier'],\n",
              " ['dishonest friend close feel guilty know gives different version truth corrected mistakes aware know wrong'],\n",
              " ['found passed last two exams margin three marks'],\n",
              " ['father ill waiting results tests'],\n",
              " ['got caught pouring rain last thursday raincoat'],\n",
              " ['failed exam'],\n",
              " ['prepared contribution group thoroughly members result overall result poor'],\n",
              " ['father worked house recovered illness rather lazy meant work hard well later'],\n",
              " ['gave birth son saw alive managed well born month early malfunctioning lung happened year ago'],\n",
              " ['found father lung cancer know long would live'],\n",
              " ['colleague asked help work despite fact time'],\n",
              " ['get salary increase expecting understood little ones work appreciated'],\n",
              " ['weeding garden found lizard hand'],\n",
              " ['met friend seen long time heard troubles thought got touch earlier'],\n",
              " ['got angry mother something trivial bad mood father ill knew mother really needed support reacted wrongly'],\n",
              " ['new years eve 19831984 met girlfriend stood steps outside parents home kissed first time'],\n",
              " ['stopped plain clothes policemen car driving overturned avenue driving fast afraid stopped questionned toild go situation ended happily since consequences'],\n",
              " ['editor changed heading article written considered heading derogatory towards person written'],\n",
              " ['close acquaintance family died lung cancer although expected still felt depressed'],\n",
              " ['saw picture gothenburg post totally demolished car two fatally injured passengers car badly damaged couldnt get bodies scene accident'],\n",
              " ['one night sexual intercourse another man sexual desire curiosity made jump bed ashamed'],\n",
              " ['due laziness failed term studies completely university also wanted extent protest parents expectations'],\n",
              " ['got loan studies'],\n",
              " ['met intoxicated people dubious intentions back alley one wednesday night'],\n",
              " ['tv saw news feature south africa policeman attacked group black people whip'],\n",
              " ['thought read boring book 400 pages english'],\n",
              " ['grovelling people'],\n",
              " ['inability assert positively group'],\n",
              " ['experience feelings guilt study enough'],\n",
              " ['observing someone cafeteria noisily gulping food extremely bad manners'],\n",
              " ['guess often ashamed talked badly people'],\n",
              " ['angry unpleasant towards parents'],\n",
              " ['sister history one abortion one stillbirth gave birth perfectly healty boy'],\n",
              " ['sister still born child emotionally deep took long time recover'],\n",
              " ['starting student project teacher talked negative helpful'],\n",
              " ['boyfriend openly let preferring another girl'],\n",
              " ['felt disgust boyfriend time left'],\n",
              " ['cant think'],\n",
              " ['accident aunt offered front seat car next driver declined took seat killed car crashed'],\n",
              " ['unexpected visit close friend hadnt seen half year'],\n",
              " ['wandered mistake safety zone shooting range shot'],\n",
              " ['treated unfairly'],\n",
              " ['breaking girl'],\n",
              " ['nothing'],\n",
              " ['none'],\n",
              " ['little contact father died'],\n",
              " ['accepted student college thought possible'],\n",
              " ['first arrive scene accident found close school friend killed'],\n",
              " ['accused done something hadnt got angry'],\n",
              " ['grandmother died'],\n",
              " ['applicable'],\n",
              " ['couple years ago summer holiday fishing lake husband suddenly started raining sun still shining experienced feeling joy happiness fulfillment whole nature full music'],\n",
              " ['alone home bed reading womens magazine storiees paranormal experiences leg itching stretched hand scratch felt another strange hand later realized corner blanket'],\n",
              " ['went lecture cancelled second time one negative attitude towards lecturer'],\n",
              " ['heard former superior mine died later home home reading newspaper thought interaction longer possible limited scope human life sad'],\n",
              " ['tram fat sickly looking woman front asking directions thick voice got go disgusting smell urine came felt would choke'],\n",
              " ['home husband made remark something done perfectly friendly manner deed unjust knew husband right therefore sense shame'],\n",
              " ['made remark sister concerning attitude men way talked compared acquaintance mine later evening sister looked sad felt guilty sadness'],\n",
              " ['summer job sweden boyfriend came meet birthday'],\n",
              " ['went practice sweden summer afraid would well'],\n",
              " ['holiday cottage association two pals came wake early one morning bringing radio played highest volume room morning service loudest'],\n",
              " ['grandmother died suddenly last summer'],\n",
              " ['superior summer job swindled customers much could put difficult situation could detest'],\n",
              " ['arrived two hours late work place bank still feeling feeble tired'],\n",
              " ['association polish visitors going back boat go see chairman association'],\n",
              " ['told quite unexpectedly one wanted become vicechairman student organisation really surprised joy first emotion felt though behind worry shall succeed'],\n",
              " ['tutorial group soon divided got list names freshmen five group read names group went way seminar room wondered would cope new situation would succeed group leader'],\n",
              " ['disco evening pleasant despite knowing angry companion let feel bad humour hide feelings'],\n",
              " ['grandmother died mother called one sunday morning autumn way mother told hated moment sounded waiting death grandmother lost person close felt guilty bad grandmother late remained calm longer understood everything well'],\n",
              " ['underground station drunkard came speak tried ask something answer began speak companion detested dirty growling man'],\n",
              " ['worried task related studies done groups two talking friends said something negative abrupt manner concerning work partner quite mean said felt ashamed mean enough criticize also friend mine'],\n",
              " ['told boyfriend want go relationship knew important wanted free saw difficult remained firm change mind'],\n",
              " ['last night chat fellow student known half year first time speaking language meaning inspiring discussion encounter'],\n",
              " ['sometimes quarrel mother blames though way connected events'],\n",
              " ['hearing death grandfather first could believe later wept felt situation hopeless felt lonely wanted consolated'],\n",
              " ['evening watching tv little brother came started eating food brought kitchen trying concentrate program'],\n",
              " ['little brother arrested police railway station drunk beer'],\n",
              " ['temporary job restrict others actions make obey often gives feeling guilt wish could way acting'],\n",
              " ['met dear friend mine long time expressed feelings usual way mutual scolding abusing complete understanding touching patting taking hand person etc'],\n",
              " ['felt fear purest kind car accident incident images horror kept coming back mind wondered could happened sister friend though nothing serious actually happened'],\n",
              " ['two boys know telling indecent manner teased young shy girl know despised conviction scorned touched got angry try conceal gave back'],\n",
              " ['sweetheart left rather decided break mutual consent consequences unrestrained weeping feelings loneliness hopelessness disconsolation felt find friend talk joyfully forget'],\n",
              " ['sheer curiosity went see pornographic movie copenhagen room full men panted masturbated disgusting'],\n",
              " ['quarelled unnecessarily without reason stupidly cross every way'],\n",
              " ['forced fill questionnaire'],\n",
              " ['tennis match'],\n",
              " ['dog ran thin ice last spring'],\n",
              " ['tennis match interrupted kid cycled right court'],\n",
              " ['celebrations graduation day orchestra playing garden part orchestra'],\n",
              " ['risk involved fight party'],\n",
              " ['heavy work load two colleagues nothing disturbed terror ringing ie continously interrupting telephoning'],\n",
              " ['exam failed'],\n",
              " ['overtook car mainroad misjudging distance oncoming car resulted tooting flashing driver could collided acquaintance car'],\n",
              " ['saw neighbour appartment block lying road could injured ill kept 20 metres away go help'],\n",
              " ['met old schhol friend school love'],\n",
              " ['cycling school nearly got knocked car overtook closely give swerving space'],\n",
              " ['deputy manager summer certain deputies took liberties normal'],\n",
              " ['realized girlfriend like going separate'],\n",
              " ['dog dirt thaws spring'],\n",
              " ['forgot mothers birthday'],\n",
              " ['think anything'],\n",
              " ['passed last exam'],\n",
              " ['nearly knocked car'],\n",
              " ['reached bus stop realized forgotten bus pass'],\n",
              " ['current work load much feeling comes back time time'],\n",
              " ['one year old son gives spontaneous kiss'],\n",
              " ['someone close travelling car delayed'],\n",
              " ['someone something wrong affects negatively'],\n",
              " ['think parents getting old'],\n",
              " ['time peoples problems motherinlaw sometimes depressed time desire strength help'],\n",
              " ['excolleague asked interested working accounts bureau needed clever people immediately thought'],\n",
              " ['driving deer suddenly appeared front car lot traffic behind'],\n",
              " ['saw report tv news apartheid south africa'],\n",
              " ['girlfriend became pregnant'],\n",
              " ['nearly collided another car'],\n",
              " ['time someone let air tyres cycle'],\n",
              " ['read lot remember anything'],\n",
              " ['time put dog sleep'],\n",
              " ['long illness'],\n",
              " ['passed exam'],\n",
              " ['travelling tram tripped fell door thought going fall'],\n",
              " ['missed tram run'],\n",
              " ['inability read book college'],\n",
              " ['guy one interested makes advances'],\n",
              " ['drink wine often'],\n",
              " ['study enough understand properly'],\n",
              " ['worked lawyers office summer got good reference'],\n",
              " ['watching triller dark night country go outside toilet'],\n",
              " ['accused something done get unbelievably angry'],\n",
              " ['began read thick book limited time read also lot work keep'],\n",
              " ['someone vomited street'],\n",
              " ['think incident felt ashamed small incidents ashamed instance sending money children ethiopia'],\n",
              " ['lunch exboyfriend mention fiancee felt guilty despite fact felt nothing exboyfriend'],\n",
              " ['finally qualified profession'],\n",
              " ['someone attacked knife'],\n",
              " ['someone drove car denied happened'],\n",
              " ['told friends wife cancer'],\n",
              " ['saw dog knocked car'],\n",
              " ['boxed childs ears'],\n",
              " ['fined speeding'],\n",
              " ['stopped working boring job'],\n",
              " ['going home car late one night cold dark windy became rather panicky way house'],\n",
              " ['quarrel family'],\n",
              " ['alone room contact anyone loneliness drains'],\n",
              " ['holiday someone vomited front'],\n",
              " ['emptied bucket water hospital'],\n",
              " ['feigned sick leave work'],\n",
              " ['get hug someone love'],\n",
              " ['driving fast small road met oncoming car right handed bend driver side road skid avoid collision dark'],\n",
              " ['car towed away traffic police wrongly parked however sign put already parked'],\n",
              " ['operation stay bed long time'],\n",
              " ['forced stay canteen eat food asked got anyway'],\n",
              " ['buy promised'],\n",
              " ['mistake took book library supposed loaned'],\n",
              " ['unexpected sum money'],\n",
              " ['2 year old daughter disappeared moment inattention responsible'],\n",
              " ['colleague asked advice enough confidence asked third person'],\n",
              " ['wanted pregnant succeed depressed every menstruation'],\n",
              " ['warm bus full people someone vomited whole bus stank'],\n",
              " ['complained colleagues behaviour goes back word often absent irresponsible found alcoholic trying fight againt addiction'],\n",
              " ['spoke mother phone skin cancer waiting operated forgot ask date operation finishing conversation gave date passing'],\n",
              " ['party met old friend adult education course met 2 years thought lot wonderful experience'],\n",
              " ['cycling park late one night two people jumped woods tried stop shouting something time'],\n",
              " ['close relatives tried dissuade studying psychology low status'],\n",
              " ['long discussion politics acquaintance knowledgeable failed explain point view misunderstood felt depressed left'],\n",
              " ['read newspaper article young girl raped assaulted one night several men unconscious'],\n",
              " ['mother revealed personal details negative aspects character people present unable defend'],\n",
              " ['unfaithful partner working abroad long period'],\n",
              " ['recently got appartment central gottenburg'],\n",
              " ['saw large spider crawling wall'],\n",
              " ['employer took many aspirins bad back also drank enormous amount spirit dangerous understand done anything wrong'],\n",
              " ['left new york family friends behind'],\n",
              " ['slept guy best friend wanted never intercourse anyone terrible complex'],\n",
              " ['dated close girlfriends boyfriend times told accepted found finished friendship'],\n",
              " ['broke boyfriend three years quite unexpected particular reason break someone else'],\n",
              " ['son returned mountaineering healthy body soul'],\n",
              " ['one meets new people one forced collaborate'],\n",
              " ['sports fishermen catch gulls instead fish hooks often mistake makes angry'],\n",
              " ['feel sad event influence'],\n",
              " ['member family complains food served disgusts'],\n",
              " ['chosen put son private school examination marks low every time gives term results left sense guilt'],\n",
              " ['informed accepted student psychology'],\n",
              " ['little fishing boat ran hard weather open sea'],\n",
              " ['found guy dating particular time steady relationship going someone else long time'],\n",
              " ['felt sad depressed heard cat died'],\n",
              " ['working nurse mental hospital patient ate contents another patients spitoon'],\n",
              " ['primary school vomited front others middle lesson'],\n",
              " ['arrived hour late important meeting misunderstood time'],\n",
              " ['acceptted student psychology'],\n",
              " ['son pain leg apparent reason'],\n",
              " ['week school teacher sent note home saying son inattentive unable lessons'],\n",
              " ['thought going impossible start studying due wrong information student advisor'],\n",
              " ['certain persons lack cleanliness home personally'],\n",
              " ['made mistake accused someone else obvious third pereson'],\n",
              " ['lost something valuable sister'],\n",
              " ['son born'],\n",
              " ['nearly drowned icy water wearing ice skates difficult get'],\n",
              " ['pointed problem child primary school mother took teachers point view'],\n",
              " ['accused neglecting work wrong reasons'],\n",
              " ['parents attitude towards become reconciled despite fathers longtime addiction'],\n",
              " ['caught stealing money father'],\n",
              " ['stole coconut cake reception table put mouth realized host watching'],\n",
              " ['10 months national service downgraded remaining 5 months'],\n",
              " ['reprimanded manager hotel worked autumn 1984'],\n",
              " ['parents drove nearby place went home immediately instead waiting hours could easily waited'],\n",
              " ['exgirlfriend discovered certain risk pregnant'],\n",
              " ['clean draining board saw looked underneath sink live students hostel'],\n",
              " ['mother caught masturbating'],\n",
              " ['person family academics ought looked younger sister better respect education life experiences'],\n",
              " ['older sister told us thinking joining rest family winter sports holiday'],\n",
              " ['slept chapel middle night realized someeone else chapel never discovered'],\n",
              " ['high school guys sometimes provoked friend mine called pig grunted irritated girls one girls got angry friend said something nasty made terribly angry'],\n",
              " ['talked boyfriend phone high spirits lot tell looking forward conversation listen extent anticipated'],\n",
              " ['mother shouts child nothing'],\n",
              " ['complained mother untidy kitchen loooked boxed ears never happened'],\n",
              " ['could home midnight called home 1130 asked leave door open could get actually woke whole family calling late mother could go back sleep besides conference next day really needed sleep'],\n",
              " ['got first day department'],\n",
              " ['cycling past parked car someone opened door nearly pushed bike traffic'],\n",
              " ['boyfriend sat half night playing computer games friend'],\n",
              " ['leave mother sister weeks visit'],\n",
              " ['saw big spider close'],\n",
              " ['asked friend return money loaned remembered repayed several ways'],\n",
              " ['one parents insinuates something divorced'],\n",
              " ['asked childs godmother'],\n",
              " ['way ski slope difficult steep'],\n",
              " ['mother interfered life'],\n",
              " ['left alone one weekend without prepared'],\n",
              " ['first time saw surgeon cut leg put black rubbish bag'],\n",
              " ['forgot meeting work'],\n",
              " ['demand much friends'],\n",
              " ['husband suddenly came see new job brought flowers cake'],\n",
              " ['nearly attackad man chasing'],\n",
              " ['father asked communist time made clear longer see daughter'],\n",
              " ['applied job thought good chance getting even granted interview get job'],\n",
              " ['tv features showing violation defenceless people'],\n",
              " ['child 9 10 playing doctor neighbours boys mother caught us'],\n",
              " ['husband talked restrictions accept life make marriage work felt directed demanded changes marriage counsellor'],\n",
              " ['able afford new sofa leather one cost sek 20000 waited 23 years'],\n",
              " ['vertigo standing ladder painting house'],\n",
              " ['boss enrolled course satisfy ends trample associates misfortune one superiors course'],\n",
              " ['argue mother way treats two children differently'],\n",
              " ['spit vomit'],\n",
              " ['spots seat covers husbands car'],\n",
              " ['speaking sisterinlaw due lack interest relationship side'],\n",
              " ['recently managed get first consulting assignment ie initiative'],\n",
              " ['within hairs breadth knocking drunkard suddenly ran street fear came later realized could happened'],\n",
              " ['friend usual forgot tickets home performance missed'],\n",
              " ['elections 1982 1985 thought social democrat communist majority could achieve especially worker share funds extension'],\n",
              " ['study visit chicken factory butchery smell environment noise'],\n",
              " ['confession parents involvement moped theft'],\n",
              " ['answer see little difference shame guilt therefore see answer shame'],\n",
              " ['appointed position trust group set change working environment'],\n",
              " ['alone cottage often stay woken rustling sound middle night'],\n",
              " ['tried explain plumber face face toilet broken believe mended ten times'],\n",
              " ['result project work treated nonchalantly intead criticized teacher'],\n",
              " ['programmes violence pornography shown tv'],\n",
              " ['talked maliciously colleague work someone else immediately afterwards felt ashamed'],\n",
              " ['decided take week holiday without consulting family first'],\n",
              " ['girl talked things relationship changed became positive diificult time turned pleasant one'],\n",
              " ['could land plane knew fuel running bad weather already frightened us'],\n",
              " ['read reagans tactical decision concerning south african boycott'],\n",
              " ['half brother became seriously ill cancer died later'],\n",
              " ['film woman attacked raped one see worst desired effect strong'],\n",
              " ['made comment interpreted completely differently meant said realized mother understood'],\n",
              " ['promised visit girlfriend different reasons could make rang later tell could come'],\n",
              " ['offered high position trust later accepted'],\n",
              " ['window open door shut kitten would go partner came started talking something forgot window suddenly saw kitten hanging window frame rigid fright till got hold'],\n",
              " ['noisy guests arrived hotel slightly irritated earlier night trying sleep party went yelled wanted sleep get early next day'],\n",
              " ['told successful getting job expecting sure sufficiently qualified'],\n",
              " ['cat vomited worm came still alive forced wipe'],\n",
              " ['child found taken clothes outdoors summer friend woods felt exciting time parents discovered trousers back front felt ashamed'],\n",
              " ['stole money mother asked later responsible never admitted'],\n",
              " ['cycling spring sunshine gives delight happiness healthy wonderful finance simply earth'],\n",
              " ['relationship family poor often fear excluded group fear stronger situations argument hand'],\n",
              " ['recently sister four years younger spoiled shouted mother apparent reason heartbroken expression mothers face made feel angry'],\n",
              " ['watched tv programme called living planet saw far reaching environmental destruction caused man'],\n",
              " ['disgust feeling never experienced peoplie hand repulsive animals ie snakes tv'],\n",
              " ['relatives acted strangely unfriendly towards'],\n",
              " ['due hunger tiredness became generally irritated fiancee made cutting remarks really hurt later realized unfounded irritation hurt person love earth'],\n",
              " ['boat trip denmark 14 us lot fun spent sek 10 one armed bandits odds jackpot sek 1000'],\n",
              " ['rainy day cycling downhill car door suddenly opened trying avoid back wheels bike got caught tram tracks somersaulted injuries'],\n",
              " ['way home marstrand driving behind fathers car another car tried push front father forced swerve thus collided car pillar car drove without even seeing happened'],\n",
              " ['girlfriend spent 6 months abroad broke relationship letter'],\n",
              " ['police centre man 4050 brought drunk likelihood slept indoors long time relieved trousers'],\n",
              " ['customer shop worked came asked goods ordered arrived totally forgotten order tried offer weak excuses'],\n",
              " ['45 years old hid bicycle keys good friend hours pretended found'],\n",
              " ['endofterm party last week fun happy sang drank soft drinks possible good time without alcohol'],\n",
              " ['last summer walking along beach bikini awful man came cycling shouting ran fast legs could carry'],\n",
              " ['course thought deserved good marks got ordinary marks justification given marks'],\n",
              " ['crashed car scrapped fault feel depressed miss car'],\n",
              " ['sort stomach virus last week vomited college morning cake shop three times trip home got home'],\n",
              " ['evening school teacher job make coffee able get coffee ready time thus arrived half hour late class top coffee undrinkable'],\n",
              " ['many years ago friend wanted southern europe preferred travel alone felt guilty wanted go'],\n",
              " ['felt love returned'],\n",
              " ['convinced someonne broken flat woke heard sounds frightened'],\n",
              " ['became clear man used many people sexually psychologically despite fact many people looked understood one could trust forced hide'],\n",
              " ['feel helpless tried help someone without result'],\n",
              " ['think way father behaved filing divorce'],\n",
              " ['8 year old wet school'],\n",
              " ['7 year old stole money mother'],\n",
              " ['recently got positive answer clinic telling would willingly assist collect data clinical pilot study'],\n",
              " ['every time meet certain dog bitten'],\n",
              " ['lot provocation child threw plate floor'],\n",
              " ['realized could communicate properly closest friend'],\n",
              " ['tried explain child magazines wiith naked girls kiosk'],\n",
              " ['stole packet cigarettes neighbour next day owned returned'],\n",
              " ['forced decline invitation mothers 70th birthday work committments another area'],\n",
              " ['began dansing teacher came told good would soon get ballet academy'],\n",
              " ['late saturday night found locked central underground station stockholm group 50 hard rockers drunk equipped various kinds chains etc'],\n",
              " ['forced call telephone company bill concerning disconnected phone belonging landlord bill four months overdue meanwhile using phone seemed intention phone reconnected'],\n",
              " ['whenever read think way people treat animals nature'],\n",
              " ['saw tv programme animals film world mistreated used'],\n",
              " ['13 years old wrote passionate love letters boyfriend later found sister read'],\n",
              " ['hated one mmy flatmates nice'],\n",
              " ['6 month old son happy well'],\n",
              " ['four year girl ran away father straight front car forced use emergency brakes'],\n",
              " ['examine satisfied'],\n",
              " ['colleague failed contact arranged time'],\n",
              " ['read racist slogans walls'],\n",
              " ['swedens arms exports'],\n",
              " ['something promised'],\n",
              " ['gave birth healthy boy'],\n",
              " ['husband spent night house area outskirts large town familiar heard strange noises outside house house glass walls whole thing even frightening'],\n",
              " ['jealous husbands old girlfriend met husband lot reminiscing'],\n",
              " ['daughter problems friends could see predicament window given cold shoulder'],\n",
              " ['auxiliary nurse hospital change nappies first time old sick woman'],\n",
              " ['friends found lying particular occasion'],\n",
              " ['middle child became difficult handle birth baby brother patience'],\n",
              " ['husband decided take days holiday particularly trying period'],\n",
              " ['hospital visit prior dc anasthesia expected miscarriage'],\n",
              " ['exchange points view sister family matter'],\n",
              " ['treatment become pregnant negative result'],\n",
              " ['woke one morning went kitchen discovered dog diarrhoea small piles floor smell choking'],\n",
              " ['young 6 7 make toilet time hid dirty trousers cellar feared discovered parents'],\n",
              " ['work boy injured lack supervision'],\n",
              " ['gave birth child saw normal put breast'],\n",
              " ['labour foetal sounds became faint big alert forceps delivery'],\n",
              " ['cash desk gone buy 16 rolls kitchen paper reduced price queuing screaming children turned taken two 8 roll packets instead one 16 roll packet rebate applied assistant said get another time'],\n",
              " ['first heard tage dannielsson died'],\n",
              " ['lift stockholm central station stank vomit urine'],\n",
              " ['train drunk person touched baby reacted disapprovingly felt ashamed later person aggressive though could'],\n",
              " ['get irritated son screams sick clean clothes'],\n",
              " ['high school entrance exam'],\n",
              " ['gang screaming drunk youths captured tram'],\n",
              " ['unjust refree decision sports event team leader'],\n",
              " ['girlfriend left'],\n",
              " ['dominated certain person even though knew could change reactions'],\n",
              " ['given detention secondary school'],\n",
              " ['splashed child slowing driving puddle water'],\n",
              " ['yesterday final whistle blew final match ois ifk certain ois swedish title'],\n",
              " ['teaching someone drive crash scared'],\n",
              " ['drummer borrowed drums destroyed drumskin sticks repair tell'],\n",
              " ['dad gives priority kid brothers band activities play different bands rehearse parents garage'],\n",
              " ['friend unjustly put blame relieve conscience also spread lies purpose'],\n",
              " ['behaviour recent party passed early luckily'],\n",
              " ['face face deceived friend sleeping wife'],\n",
              " ['dived among sharks brightly coloured fish outer reef tvavni fidgi'],\n",
              " ['missed crashing hairs breadth man came 20 metres ahead driving 110kmh'],\n",
              " ['told computer teacher want teach beacause prejudice'],\n",
              " ['could anything bad back'],\n",
              " ['discovered house hired tonga full cockroaches'],\n",
              " ['excreted mat instead potty'],\n",
              " ['pulled chair someone kindergarten hit head'],\n",
              " ['passed driving test three weeks ago got licence'],\n",
              " ['car driving skidded icy road landed ditch one side rock'],\n",
              " ['met friends seen last 24 years'],\n",
              " ['guy chased jogging'],\n",
              " ['morning newspaper arrived'],\n",
              " ['feel unbelievably happy relationship boyfriend reoccurring feeling'],\n",
              " ['reoccurring fear something happen relatives'],\n",
              " ['argue boyfriend feel though feels superior'],\n",
              " ['failed exam last summer worked hard disappointed thinking hopeless continue college overreact'],\n",
              " ['argue sister feels sometimes upper hand use often argue better makes terribly angry'],\n",
              " ['happy got attractive summer job'],\n",
              " ['birth child'],\n",
              " ['leave baby carriage go shopping fear something happen baby'],\n",
              " ['winter water pipes froze water two days'],\n",
              " ['quite succeed breast feeding baby'],\n",
              " ['smell garlic rushhour bus'],\n",
              " ['fell ground crossing street cap covered eyes felt quite difficult'],\n",
              " ['twomonth old baby came university attend lectures leave baby father felt guilty'],\n",
              " ['christmas holidays met old friends seen six months'],\n",
              " ['driving car friend mine turned wrong direction towards unknown district nearly drove precipice'],\n",
              " ['religion teacher presented shocking sectarian thoughts dooms day official teaching'],\n",
              " ['grandfather died exchange student usa'],\n",
              " ['happened see videotape movie america part one friends place'],\n",
              " ['insulted couple good friends mine even tried hit drunk next day ashamed course'],\n",
              " ['stole carrots got caught apologize owner'],\n",
              " ['undergrounds escalator youngish bum asked money although give anything fellow told really goodlooking man front also turned look'],\n",
              " ['afraid moving away home moving helsinki studies'],\n",
              " ['student kitchen share somebody drank juice pot one litre got one glass whole pot'],\n",
              " ['father gave money brother'],\n",
              " ['weekend home mother fries greasy unhealthy meat dishes make feel sick'],\n",
              " ['wearing slippery shoes tumbled place many people walking'],\n",
              " ['ate runebergs cake though knew would immediately put kilo'],\n",
              " ['nine pm went home bike dark cycletrack lack time take shortcut'],\n",
              " ['go home foot 5 pass forest going alone'],\n",
              " ['missed train wait next two hours reason missed appointment important'],\n",
              " ['grandmother died lived ten years'],\n",
              " ['went home train sicilia molested man'],\n",
              " ['lied someone time later person found told truth'],\n",
              " ['decline appointment important person reason even got trouble'],\n",
              " ['person bad terms gave present became reconciled'],\n",
              " ['friends father died come see friend although know family'],\n",
              " ['watching tv friend first film wanted watch another film channel friend switched cannel without asking wanted'],\n",
              " ['boyfriend seperated initiative'],\n",
              " ['friends boyfriend treated badly let serve provoked utilized'],\n",
              " ['lied person thought could tell truth found angry understanding talked whole thing'],\n",
              " ['told person unpleasant things bad manner depressed caused accident'],\n",
              " ['considered hours able overcome scruples call friend fallen love realized decision right glad'],\n",
              " ['slept short time woke feeling someone standing beside frightened turn light turn light several minutes able get sleep'],\n",
              " ['moved flat friend lived left flat terrible mess angry sloppiness impudence'],\n",
              " ['father complicated operation long time also long time know would get time felt sad'],\n",
              " ['tramwaycarriage stranger insulted girl blew nose detested behaviour'],\n",
              " ['quite recently realized erroneous views life instance always lived people forgotten person suppressed feelings ashamed concious conversation person'],\n",
              " ['quarrel near persons said many illconsidered things regretted late'],\n",
              " ['summer sailing friends greece felt joy'],\n",
              " ['riding friend car speed 120 kmh snowcovered motorway would liked get'],\n",
              " ['meeting male friend whose wife affair'],\n",
              " ['walking along beach friend another girl talking picking shells laughing chasing seagulls'],\n",
              " ['climbing mountain see view towards top suddenly came across ledge nearly sheer drop either side cross'],\n",
              " ['friend suggested roundabout way reason late something im often late know partly true felt unjustified particular time felt couldnt anything anyway ie late'],\n",
              " ['talking good friend bad experience changing whole way looking life etc'],\n",
              " ['came across group people basic ideasbeliefs fighting going would say good'],\n",
              " ['working job could work quickly enough told work standard'],\n",
              " ['wasted time instead something needed give friend also time wasted done things consider morally right'],\n",
              " ['meeting old friend mine'],\n",
              " ['brother late arriving home work'],\n",
              " ['fight best friend'],\n",
              " ['dog died'],\n",
              " ['movie saw effect white settlers africa'],\n",
              " ['got bad result one assignments'],\n",
              " ['leaving friend mine alone dance felt kept company'],\n",
              " ['realised forgiven god realised much god loves acceptance based performance loves unconditionally showed love christ died need forgiveness'],\n",
              " ['fear paralysing would accepted god believed morally bankrupt becoming christian realising christ came free us sin forgive us'],\n",
              " ['fathers treatment mother disregard committed'],\n",
              " ['lack love father mum sadness anyone else realise much love happiness could much damaging apart mum'],\n",
              " ['capable selfishly using others sexual encounters held vision deepening aboveboard know girl next door devotion girl head drives actions match consequently felt disgusted failure'],\n",
              " ['using people sexual experience using another detriment anxiety may affected another worst'],\n",
              " ['guilt living moral expectation guilt type person patents wanted guilt bloody everything realising failed drastically eyes'],\n",
              " ['rockclimbing absailing felt ok suddenly going cliff hit fear couldnt go absailing cliff actually hauled back'],\n",
              " ['told boy friend park certain place car would ger towed away didnt listen towed away stage finances poverty line cost us 1000 money get us week including rent'],\n",
              " ['sister scholarship norway particularly walked across tarmac get plane looked back us'],\n",
              " ['work parttime shopassistant customer spoke loudly indian man white woman children horrible would want little dark children'],\n",
              " ['mother told uncle roman catholic priest redemptist father living defacto relationship three years angry'],\n",
              " ['snapped abruptly mother said something silly stupid front people looked defenceless hurt told im always'],\n",
              " ['received wedding invitation exflatmate enclosed small note overcame lot differences arisen us due circumstances left flat'],\n",
              " ['one afternoon helping home property mustering getting cattle bull turned came'],\n",
              " ['getting terrible exam mark couldnt understand reason trying see lecturer tutor given runaround'],\n",
              " ['watching old lady running street catch bus miss reminded mother dreadful would situation'],\n",
              " ['coming home one night sister home drinking heavily started picking arguments'],\n",
              " ['travelling car meet oncoming car overtaking'],\n",
              " ['close relative treated badly'],\n",
              " ['close friend died'],\n",
              " ['saw starving people ethiopia tv felt awful see suffering'],\n",
              " ['mistake occurred work responsible disclosed later'],\n",
              " ['called boyfriend asked would live'],\n",
              " ['last summer italy attacked dogit terrible feel untidy dirty dog naked skin'],\n",
              " ['fathers new fiancee treats like child trust constantly misunderstands get particularly angry says nasty things boyfriend works'],\n",
              " ['guy love told met someone else would meet year although steady relatioship affair'],\n",
              " ['love guy returned'],\n",
              " ['think death parents brothers sisters'],\n",
              " ['parents approve choice boyfriend exboyfriend happened 13 years older considered completely unsuitable idiot'],\n",
              " ['uncle comes 3 times year traditional christmas dinner grandparents relatives drunk'],\n",
              " ['living home summer vacations towards end decided take clothes belongings appartment guttenburg finished went exboyfriends relationship uncertain home stayed till 5 leave parents needed car work morning parents like boyfriend'],\n",
              " ['met present boyfriend boat trip england said would call got back sweden going town england soon walked called england could wait till came home'],\n",
              " ['mothers heart nearly stopped'],\n",
              " ['sofa flat belonged old tenants acquaintances picked year ago postponed eventually decided one date stayed home despite fact things come call still got touch'],\n",
              " ['exboyfriend separated'],\n",
              " ['intoxicated men incite fight met vile smelling man tram got closer closer till got got angry'],\n",
              " ['nephew asked tell story simply energy saw disappointment terribly guilty read story'],\n",
              " ['fell love'],\n",
              " ['earlier afraid speaking front crowd people'],\n",
              " ['girl went another guy'],\n",
              " ['setbacks'],\n",
              " ['worked harbour emptied latrine containers back lorries'],\n",
              " ['day night drank much party'],\n",
              " ['accepted student psychology gutttenburg'],\n",
              " ['woke middle night jumped shouted fear thought someones cold hand something similar touched hand crept covers went back sleep'],\n",
              " ['young teenager 14 brotherinlaw made heavy advances understand well reacted strongly feelings still'],\n",
              " ['broke partner wanted friend lover reacted violently felt guilty made desperately unhappy'],\n",
              " ['made dinner friends appreciated much'],\n",
              " ['nearly knocked cycling'],\n",
              " ['father argument help enough home'],\n",
              " ['intercourse someone realized done wrong disgusted'],\n",
              " ['said nasty things mean friend'],\n",
              " ['intercourse'],\n",
              " ['disappointment friend'],\n",
              " ['quarrelled younger brother'],\n",
              " ['woke nightmare'],\n",
              " ['helping older people toilet'],\n",
              " ['squeezed puppy door'],\n",
              " ['notified accepted psychology student'],\n",
              " ['motor failure boat outside gottenburg heavy seas wind strong could steer boat drifted towards rocks succeed attracting attention passerby 4 hours elapsed'],\n",
              " ['lady live bothered clean went holiday live collective'],\n",
              " ['heard good friend committed suicide'],\n",
              " ['present found shopkeeper dead shop shot shotgun close range'],\n",
              " ['remember last felf ashamed usually feel ashamed'],\n",
              " ['mother accused visiting enough hospital eye operation'],\n",
              " ['made debut ullevi ifk gottenburg got good write paper'],\n",
              " ['78 years old woke one night found alone home mother gone buy cigarattes machine'],\n",
              " ['found failed pass exams term one point fact exactly thing happened last term help'],\n",
              " ['touring asia present football team saw old europeans young asiatic prostitutes'],\n",
              " ['evening class teacher got positive feedback atmosphere good kind relaxed understanding exists'],\n",
              " ['mischieviously ringing chemists tradeentrance doorbell getting caught'],\n",
              " ['sight man ran amok fighting dance'],\n",
              " ['work'],\n",
              " ['mouth full bun drank directly packet milk turned weeks old completely separated took milk seep bun'],\n",
              " ['boy shot dead squirrel'],\n",
              " ['accepted supervisor student teacher notification came post'],\n",
              " ['involved car accident last november first fall snow lost control car spun round landed opposite side road hard shoulder stopped pole top bank sloping stream'],\n",
              " ['job appointments committee headmaster charge explained male teacher suitable particular post years service male teacher taken consideration could given less attractive job things gone way headmaster wanted'],\n",
              " ['colleagues 17 year old daughter seriously ill cancer year live heard 6 weeks ago'],\n",
              " ['close friend met station middle night came back long tiring journey'],\n",
              " ['quarreled boyfriend threatened leave'],\n",
              " ['someone didnt show meeting spite agreed come'],\n",
              " ['understood marriage falling apart decided legally separated'],\n",
              " ['antipornography meeting samples films magazines shown'],\n",
              " ['comments children alcoholic father'],\n",
              " ['failed help 5th march arrangements womens day although previously promised take part work'],\n",
              " ['able buy new car lots problems'],\n",
              " ['car accident woke heap stones'],\n",
              " ['tried put tent years ago teased hindered cousin'],\n",
              " ['grandfather died'],\n",
              " ['hit dog car didnt stop'],\n",
              " ['car accident let 16year old incompetent parson take wheel feel guilty happened even though suffered worst injuries'],\n",
              " ['admitted certain school student'],\n",
              " ['father chronic desease autumn 1983 strong fit seizure'],\n",
              " ['drunken friend mine beating another friend also drunk'],\n",
              " ['didnt get certain job lillehammer wanted much'],\n",
              " ['boss job failed keep promise something knew extremely important'],\n",
              " ['exam questions specific knowledge asked'],\n",
              " ['hit little sisiter head stone fighting'],\n",
              " ['father managed begin new life divorce mother resulting new little sister'],\n",
              " ['nearaccident car driving fast icy road'],\n",
              " ['mother friends speaking badly father separated brothers sisters allowed listen'],\n",
              " ['bored school able marry children'],\n",
              " ['mothers new husband treated brothers sisters badly'],\n",
              " ['stealing mothers purse little boy'],\n",
              " ['hospital visited someone quite unexpected'],\n",
              " ['hunting lost fog mountains'],\n",
              " ['accused misdemeanour unjustly'],\n",
              " ['girlfriend left'],\n",
              " ['slaughtering animals'],\n",
              " ['entered wrong room got bed someone already sleeping'],\n",
              " ['failed show agreed date'],\n",
              " ['finally managed get specific sound guitar baving tried long time'],\n",
              " ['climbing mountain got stuck realized could get neither'],\n",
              " ['meeting generally dominating persons social occasions'],\n",
              " ['discovering lillehammer provided musical environment suits taste even though told'],\n",
              " ['cant describe disgust situation'],\n",
              " ['cast general election resulted norway getting conservative government'],\n",
              " ['friend mine shot head told others would'],\n",
              " ['children born'],\n",
              " ['almost ran small boy suddenly front car'],\n",
              " ['father phoned come home vacation since longer time look garden animals'],\n",
              " ['told good friend seriously ill'],\n",
              " ['learned relative spreading rumours'],\n",
              " ['talking badly person friends discovered daughter listening'],\n",
              " ['exhusband left house children cried coming back'],\n",
              " ['special friend said love first time'],\n",
              " ['watched crime show tv take dog walk suddenly man porch live distance away people'],\n",
              " ['car suddenly broke'],\n",
              " ['earlier friend spreading negative rumours'],\n",
              " ['certain person seen makes cringe feel disgust'],\n",
              " ['cheating get best grade test 7th grade'],\n",
              " ['kitten wandered office told take back across street crossed back kitten followed run killed car'],\n",
              " ['term paper evaluated'],\n",
              " ['seeing terror movie cinema scared couldnt even drive car garage often thought film afterwards hoping things couldnt exist real world'],\n",
              " ['angry brother making fun teasing'],\n",
              " ['gradmother died'],\n",
              " ['overreacted towards mother felt ashamed afterwards'],\n",
              " ['parents work hard get tired go school study instead helping feel im letting disappointing'],\n",
              " ['got touch earlier friends long absence'],\n",
              " ['lost way trip mountains'],\n",
              " ['subject unfair treatment working group someone bending rules protected boss resulted work others'],\n",
              " ['death close friend'],\n",
              " ['confronted person negative thoughts people social status beliefs color outlook life perspective'],\n",
              " ['feeling inadequate group situation unable convey thoughts feelings'],\n",
              " ['failed complete working task within agreed time'],\n",
              " ['receiving much wanted letter good friend lives abroad'],\n",
              " ['getting back results test school worked hard worried succeeding'],\n",
              " ['one best friends accused giving early problems casual remark side angry hurt'],\n",
              " ['realizing school soon go different ways perhaps never meeting friends year'],\n",
              " ['public swimming hall saw aggressive man practically attacked children got way swimming'],\n",
              " ['making strong statements infidelity couples discovered one best friends sad case mutual infidelity listening'],\n",
              " ['planned trip south easter together friend sorry changed mind decided go'],\n",
              " ['friend hadnt seen years sent small present'],\n",
              " ['one dark night street lights car obviously following'],\n",
              " ['subject false accusations got angry'],\n",
              " ['told good friend couldnt friends relationship another girl'],\n",
              " ['difficult since dont remember feeling disgust towards anyone'],\n",
              " ['dont go lectures often feel ashamed'],\n",
              " ['angry girlfriend interferring little much personal affairs told rather strongly started crying'],\n",
              " ['fiancee travelled 2000 km visit hadnt seen 4 months'],\n",
              " ['beaten private new years party fault mine'],\n",
              " ['felt unfairly treated airport told use different counter domestic traffic'],\n",
              " ['grandmother died'],\n",
              " ['murder two girls school trip berlin sexual crimes generally couple years ago'],\n",
              " ['taking part mobbing one best friends primary school'],\n",
              " ['secretly tried smoking first time 12 years old'],\n",
              " ['person fond returned'],\n",
              " ['applicable'],\n",
              " ['students working group showed responsibility interest work'],\n",
              " ['close friend left'],\n",
              " ['people unfairly treated nationalitycolour'],\n",
              " ['taking part mobbing girls class primary school'],\n",
              " ['applicable'],\n",
              " ['close acquaintace cried felt happy somebody cared'],\n",
              " ['letter boyfriend began way thought going end relationship afraid reading rest'],\n",
              " ['nephew deaf also hyperactive boy responsible looking full day tired suddenly grabbed knife stabbed leg got angry didnt feel pain'],\n",
              " ['woman know slowly dying cancer observing process makes sad'],\n",
              " ['close friends talking badly friends'],\n",
              " ['father died two painful weeks bed felt relieved ashamed'],\n",
              " ['day school instead helping mother job stayed bed day'],\n",
              " ['renewed contact earlier friend'],\n",
              " ['fearing use power reprimands belong minority'],\n",
              " ['close friend first said accepted agreement later used agreement reason attacking'],\n",
              " ['realizing girlfriend fact started process breaking'],\n",
              " ['political military trnsgressions around world generally speaking described questionaire'],\n",
              " ['accused hidden intentions situation believed acting honestly fairly'],\n",
              " ['aunt took life felt guity understanding needed support'],\n",
              " ['receiving postcard form sweetheart abroad vacation sure would write'],\n",
              " ['tried breake boyfriend refused let go'],\n",
              " ['go back home form us ten weeks visit brother family'],\n",
              " ['dated another boy several times still going former boyfriend made feel little bit guilty towards friend'],\n",
              " ['finding glasses lost town'],\n",
              " ['falling cliff mountains'],\n",
              " ['fight class mate'],\n",
              " ['gear broke car'],\n",
              " ['cant remember feeling'],\n",
              " ['cant remember feeling'],\n",
              " ['forgot lock outside door land ladys place'],\n",
              " ['got job right school'],\n",
              " ['going home alone forest girl guide scout meeting'],\n",
              " ['get angry people disbelieve misunderstand'],\n",
              " ['death close relative'],\n",
              " ['unjustly punished feel disgust towards person responsible'],\n",
              " ['caught changing truth lying'],\n",
              " ['something wrong home letting normally rampant brother take blame'],\n",
              " ['passed exam required authorized radiotv dealer'],\n",
              " ['climbing mountain rocks loose realized danger high still long climb ahead'],\n",
              " ['spokesman union got quarrel colleague acting disloyally sustained period time'],\n",
              " ['grandfather died close relationship'],\n",
              " ['reading executions massacres happened world war ii felt disgust towards'],\n",
              " ['woke house someone knew remembering much said done party previous night'],\n",
              " ['borrowing car minor accident breaking headlight'],\n",
              " ['succeeding helping others'],\n",
              " ['realized living borrowed time nuclear holocaust appears come closer every day'],\n",
              " ['others let fail keep agreements'],\n",
              " ['death close family'],\n",
              " ['people manipulate others appearing better really'],\n",
              " ['participating theft several years ago'],\n",
              " ['feeling helpless able accomplish really wanted'],\n",
              " ['received message id accepted school really wanted go'],\n",
              " ['came home discovered someone broken realized probably still'],\n",
              " ['accused drunk bottle liquor refilling water'],\n",
              " ['got package parents without even small note enclosed'],\n",
              " ['quarreling father made false assertions'],\n",
              " ['telling friends parents treating brothers sisters unfairly'],\n",
              " ['ive always defended sister needed expense brother led feelings guilt towards'],\n",
              " ['winning local soccer championships year great joy'],\n",
              " ['important sports events'],\n",
              " ['colliding car blame'],\n",
              " ['succeeding crosscountry skiing competition intended win'],\n",
              " ['cant remember episode disgust'],\n",
              " ['got really drunk norvegian indipendence day allowed participate football soccer games two weeks unpleasant'],\n",
              " ['boy next door set fire house accident'],\n",
              " ['getting top price football pools'],\n",
              " ['threatened knife military soldiers form another unit reason girls'],\n",
              " ['mother treats 10year old boy'],\n",
              " ['getting know uncle america brain tumor'],\n",
              " ['outside night club grown man sitting top younger woman beating'],\n",
              " ['father member public alcohol drugs board picked police drunk public place'],\n",
              " ['illoyal disloyal people close episode sister received support attention'],\n",
              " ['receiving close friends form abroad hadnt seen years'],\n",
              " ['motorcycle accident two people involved running road broke arm'],\n",
              " ['agreed share taxi expenses three people back car ran leaving person front entire bill'],\n",
              " ['death close friend'],\n",
              " ['cant remember feelings'],\n",
              " ['private party literally fell food party completely ruined host carpets cleaned etc'],\n",
              " ['accidentally dropped friends camera flash broken'],\n",
              " ['selling used car'],\n",
              " ['almost crashing car something could led great problems'],\n",
              " ['realizing friend talked signing certain contract'],\n",
              " ['talking pensioned bitter street order policeman'],\n",
              " ['sadistinc exacution student usa'],\n",
              " ['forgetting important appointment'],\n",
              " ['keeping promise delivering materials great importance receiver'],\n",
              " ['managed run 30 km skis fairly simply'],\n",
              " ['afraid wouldnt catch train going see sweetheart'],\n",
              " ['receiving personal criticisms early morning'],\n",
              " ['getting job'],\n",
              " ['seeing pornographic film looking place live'],\n",
              " ['unjustified hurting people'],\n",
              " ['negative feelings towards displayed parentsinlaw'],\n",
              " ['reunion wife legal separation'],\n",
              " ['house fire saved dog afraid fire verging panic'],\n",
              " ['physical violence friend wouldnt listen repeatedly tried warn avail result eight people pissed'],\n",
              " ['father dying'],\n",
              " ['maltreatment children'],\n",
              " ['lost drivers licence speeding'],\n",
              " ['car accident hurt three closest family'],\n",
              " ['relating closest family'],\n",
              " ['thinking unknown happens moment death etc'],\n",
              " ['traffic often get relatively angry drivers several transgressions make mad especially yielding priority traffic eg coming right'],\n",
              " ['losing close people animals far ive felt losing dog traffic accident'],\n",
              " ['feel disgust towards responsible death others'],\n",
              " ['talking persons unattractiveness realizing person listening'],\n",
              " ['often feel guilty people eg havent visited older relatives'],\n",
              " ['contract shop signed'],\n",
              " ['close auto accident almost driving road'],\n",
              " ['gone school without learning anything usual'],\n",
              " ['sweatheart away trip got problems'],\n",
              " ['overeating traditional type food blood pudding'],\n",
              " ['forgot shopping promised'],\n",
              " ['crashed fathers car'],\n",
              " ['receiving letter form girl means lot emotionally'],\n",
              " ['close drowning'],\n",
              " ['slandered friends'],\n",
              " ['love problems'],\n",
              " ['apply'],\n",
              " ['finally admit wrong denied long time'],\n",
              " ['aggressive members family'],\n",
              " ['country ski championship'],\n",
              " ['scared dark little boy'],\n",
              " ['angry team small boys lost county championship football final'],\n",
              " ['grandfathers death'],\n",
              " ['teacher gave lower grades entitled hoping'],\n",
              " ['caught stealing apples neighbors garden'],\n",
              " ['helping parents enough home farm happened many times'],\n",
              " ['bank let borrow money winter grant spent'],\n",
              " ['stopped police spain grass tobacco'],\n",
              " ['father accused brother bumped car wrong'],\n",
              " ['girlfriend left'],\n",
              " ['friend dropped frog neck didnt know'],\n",
              " ['fighting father drunk'],\n",
              " ['7th grade class mobbed famale teacher badly breackdown hospitalized'],\n",
              " ['school teacher teacherparent meeting received good deal positive feedback work parents pupils'],\n",
              " ['child home alone felt indefinate manner afraid death father mother'],\n",
              " ['discussion mother concerning sisters divorce disagreed strongly'],\n",
              " ['tenyearold funeral grandfather ceremonies held church really death grandfather made sad'],\n",
              " ['discussion wife overweight acquaintance eating habits scars caused pregnancy'],\n",
              " ['confessed girlfriend wife betrayed another woman'],\n",
              " ['shame'],\n",
              " ['successful lesson'],\n",
              " ['thinking death'],\n",
              " ['conflict pupil'],\n",
              " ['home alone'],\n",
              " ['saturday night bus full drunken people'],\n",
              " ['conflict pupil probatory teachers present'],\n",
              " ['selling appartment divorce'],\n",
              " ['economic crisis got unexpected sum money'],\n",
              " ['dark unreal figure formed shadow'],\n",
              " ['treated unfairly regardless motives deeds'],\n",
              " ['noticed obvious marks old age negative sense close relative mine'],\n",
              " ['child saw unesthetic sight'],\n",
              " ['social occasion noticed reacted basis autonomous nerve system could help'],\n",
              " ['caused needless anxiety person close lack selfinsight'],\n",
              " ['coming home exam supposed passed ran restaurant beer'],\n",
              " ['drinking pal later 1 clock date fiancee going spanish lesson afraid would smell drinking'],\n",
              " ['fiancee parents place watching tv two tvchairs sitting drunken brother came rudely chased fiancee chair sitting'],\n",
              " ['drunk couple beers fiancee got angry'],\n",
              " ['hamburger bar man table nearby started coughing spitting plate'],\n",
              " ['got fight chaps front family house value property destroyed approximately 15 000 fim felt ashamed parents came know'],\n",
              " ['party night still liquors left morning went kitchen pretending prepare tea caught fiancee pouring rum throat'],\n",
              " ['dancing restaurant last week'],\n",
              " ['inter rail naples alone evening restaurant going back hotel prostitute approached sell refused carried walking felt followed someone'],\n",
              " ['girl left'],\n",
              " ['way back inter rail board ferry stockholm father called 7 oclock tell uncle died would seeing final journey within four days'],\n",
              " ['reperbahn restaurant charming old saleswoman came beg drink'],\n",
              " ['funeral uncle one bearers familiar etiquette acted tactlessly ignorance'],\n",
              " ['reberbahn restaurant drinks overpriced ask prices beforehand bill came could pay bill'],\n",
              " ['girlfriend gave feedback understood meant relationship turn even closer'],\n",
              " ['dentists waiting turn come'],\n",
              " ['army treated unfairly superiors held responsible deed innocent'],\n",
              " ['came know grandmother died close'],\n",
              " ['army acquaintance mine tended use position advance interests'],\n",
              " ['lied girlfriend telling passed exam actually even take'],\n",
              " ['spoke ill fellow worker absence person'],\n",
              " ['look people around know people stupid look stupid'],\n",
              " ['saw russian roulette tv obviously movie deer hunter'],\n",
              " ['stupid people push rush time city'],\n",
              " ['laziness makes one sad'],\n",
              " ['saw hundreds snakes twisting one another movie'],\n",
              " ['saw skidrow chronical alcoholic ashamed people high standard living'],\n",
              " ['shot bird head shotgun'],\n",
              " ['close another person'],\n",
              " ['uncertainty abilities exam'],\n",
              " ['unfair punishment'],\n",
              " ['loneliness uncertain autumn'],\n",
              " ['rich man expressing disgust towards alcoholic'],\n",
              " ['went doctor complaint doctor told completely healthy'],\n",
              " ['father away home come back expected came back several hours later expected'],\n",
              " ['implicit agreement sister meeting however understood situation way turn'],\n",
              " ['realized girl loved leave'],\n",
              " ['bus sitting next colleage drunk behaved keeping state'],\n",
              " ['promised help domestic chores forgot'],\n",
              " ['promised call girl'],\n",
              " ['unexpectedly received birthday greetings person like'],\n",
              " ['returned home late party last night felt afraid trying anticipate reaction father'],\n",
              " ['learned brother spoilt lp mine'],\n",
              " ['came know girl fond already boyfriend'],\n",
              " ['eager approach dirty drunken person bus'],\n",
              " ['made major mistake learning use computer programme teacher criticized'],\n",
              " ['reproached mothers cooking criticised personality felt hurt depressed'],\n",
              " ['shot decisive goal icehockey match'],\n",
              " ['got lost new york city late friday night friend mine'],\n",
              " ['quarelled relative mine politics'],\n",
              " ['death grandmother'],\n",
              " ['noticed nice person exploited economically'],\n",
              " ['slandered person behind back got know'],\n",
              " ['quarelled friend mine later realized also fault'],\n",
              " ['passed exam sure pass rejoyced result possibility continuing studies depended'],\n",
              " ['traffic car nearly got crushed bus tram attention drivers saved last moment'],\n",
              " ['disappointed angry bad quality documentay program tv opinion topic important program made seriousness consideration'],\n",
              " ['father heart attack home still living recovered relatively well although retire implied relief stress small scale enterprise'],\n",
              " ['grandmothers detestable selfish conduct towards elder sister although behavior due senility lack understanding'],\n",
              " ['arrived late seminar concerning major subject university although appointed formally oppose paper presented'],\n",
              " ['asked salvation army take away piece furniture mine forgot cancel agreement friend mine took thereby caused salvation army people unnecessary work'],\n",
              " ['cliff sea silence sudden voice birdswans bay'],\n",
              " ['dark night go outdoor lavatory'],\n",
              " ['realized far behind others language course could longer catch others'],\n",
              " ['long lasting illness grandmother changes family relationships caused'],\n",
              " ['spoilt smashed molded potatoes fridge clean dish later'],\n",
              " ['truth expressed unthinkingly coffee party realized later inconsiderate wrong moment wrong place'],\n",
              " ['go exercises without adequate reason'],\n",
              " ['got home job found letter university telling admitted begin studies'],\n",
              " ['watching tv war movie felt strong fear death threat fear loosing people close'],\n",
              " ['angry friend mine behaved affected manner'],\n",
              " ['made longdistance call people rather close thought sad incident happened near past knew thinking made call'],\n",
              " ['parents inherited appartment made behave peculiar manner'],\n",
              " ['friend let personal matters publicaly known'],\n",
              " ['think family parents brothers sisters guilt part feelings'],\n",
              " ['unexpectedly met girl always got along well seen several months'],\n",
              " ['father drunk raging home'],\n",
              " ['find rack used beating rugs yard'],\n",
              " ['one cat died disease'],\n",
              " ['felt disgusted environment getting back student lodging see anything suburb planned taking peoples comfort account'],\n",
              " ['girlfriend away visiting another city brought another girl home next morning started getting sober felt quite ashamed'],\n",
              " ['got 100 fim much changed money bank soon called job situation embarrasing'],\n",
              " ['sweden friend lived appartment owned finn one day man came back appartment heavily drunk hashish alcohol quite dizzy broke could foretell reactions however nothing happened'],\n",
              " ['appointment downtown person question half hour late'],\n",
              " ['death grandmother'],\n",
              " ['army hospital two weeks soon returned company sergeant ordered fetch load tractor trailer'],\n",
              " ['way back summer spent sweden drunk man train drunk much got home fell asleep entrance hall never drunk much neither incident ashamed mother sister see state father carry bed'],\n",
              " ['primary school let friend ring bell although would liked afterwards felt bad'],\n",
              " ['got fairly large amount taxes back'],\n",
              " ['jogging forest central park area saw man hiding behind tree got frigthened turned around ran forest'],\n",
              " ['coming home taxi fellow worker mine criticizing earlier conduct towards mind unfounded reached home ran taxi slammed door'],\n",
              " ['farewell party place working year night could fall sleep sad thinking would see nice fellow workers'],\n",
              " ['travelling local train drunkard smelling terribly entered carriage started eating fish stinking'],\n",
              " ['quarelling fellow worker mine vehement irritated told thought plain language ashamed met next day'],\n",
              " ['working secretary boss go give lecture wanted give exact address place'],\n",
              " ['sunny autumn day long rainy period'],\n",
              " ['years ago way school forest path came across exhibitionist'],\n",
              " ['person close mistook good intentions bad therefore associated unpleasant traits'],\n",
              " ['person close told positive regard depended conduct'],\n",
              " ['untidy heavyly drunk person made endeavours approach'],\n",
              " ['little girl sick middle school day vomitted basin classroom'],\n",
              " ['lost selfcontrol raised voice child'],\n",
              " ['got know accepted university'],\n",
              " ['watching tvprogram paranormal phenomena night could fall sleep feared humanoids move'],\n",
              " ['superior blamed neglects work front others fact task question supposed done'],\n",
              " ['father suddenly fell ill died'],\n",
              " ['friend mine got drunk started blame scorn friends'],\n",
              " ['forgot promise made friend mine'],\n",
              " ['turn cook dinner forgot dish favourite family oven got burnt uneatable'],\n",
              " ['joy joy meeting husband came home away weeks work railway station meet'],\n",
              " ['alone home could hear odd noises coming bedroom knew nobody lived since office got frightened later given natural explanation'],\n",
              " ['relative mine come see husband talk problem concerning sister angry relative mine dare speak instead spoke husband got know later day'],\n",
              " ['death father even though close'],\n",
              " ['male friend mother widow moved live us like man'],\n",
              " ['school talking classmate mathematics grown weary said would like throw book arse kuikka classmate said sitting waiting book kuikka one quiet boys class ashamed'],\n",
              " ['death father made feel quite guilty attitude towards cold indifferent'],\n",
              " ['mother sister thinking old times childhood happy time'],\n",
              " ['husband gone drive strange broken car agreed time returned feared accident'],\n",
              " ['school teacher one classes obey keeps talking work one afternoon everything went wrong got exceedingly angry'],\n",
              " ['young close relative mine died leaving behind baby months old'],\n",
              " ['series freud shown tv tampon set nose woman forgotten great pain taken closeup picture woman bleeding nose mouth'],\n",
              " ['promised lend something motherinlaw forgot couple times asked third time ashamed absentmindedness'],\n",
              " ['borrowed car broke using fault nevertheless felt guilty'],\n",
              " ['started new branch studies failed former one got back exam papers happy know almost full marks'],\n",
              " ['diving ice cave depth 26 metres visibility almost zero oxygen level decreased threateningly three us divers one safety rope'],\n",
              " ['mother carried using mental pressure concerning something serious real burden'],\n",
              " ['grandfather died went mortuary saw corpse'],\n",
              " ['anger'],\n",
              " ['child blamed peeing swimmingpool'],\n",
              " ['friend mine drunk argument street woman appparently girlfriend walking side street thought supposed interfere later heard shot evening'],\n",
              " ['girlfriend sent letter shiny picture'],\n",
              " ['begin journey car acquaintance mine'],\n",
              " ['tv news heard nicaragua complained increasing threat war usa'],\n",
              " ['girlfriend gave mitten left'],\n",
              " ['watching violent movie'],\n",
              " ['morning wild party'],\n",
              " ['picked girl thought misused position authority seem realistic possibility continuing relationship'],\n",
              " ...]"
            ]
          },
          "metadata": {},
          "execution_count": 49
        }
      ]
    },
    {
      "cell_type": "code",
      "source": [
        "preprocessed_sentences = pd.DataFrame(prepro)"
      ],
      "metadata": {
        "id": "OiqVFEyORhkL"
      },
      "execution_count": 50,
      "outputs": []
    },
    {
      "cell_type": "code",
      "source": [
        "preprocessed_sentences.loc[[55]]"
      ],
      "metadata": {
        "colab": {
          "base_uri": "https://localhost:8080/",
          "height": 128
        },
        "id": "0LK2Kaudyy_A",
        "outputId": "e486d4c9-92bf-4e17-a613-6251d6e7d885"
      },
      "execution_count": 59,
      "outputs": [
        {
          "output_type": "execute_result",
          "data": {
            "text/plain": [
              "                                                    0\n",
              "55  told friend going party would enjoy came along..."
            ],
            "text/html": [
              "\n",
              "  <div id=\"df-4bccd4c7-be75-452f-bcce-410f2a4588e4\">\n",
              "    <div class=\"colab-df-container\">\n",
              "      <div>\n",
              "<style scoped>\n",
              "    .dataframe tbody tr th:only-of-type {\n",
              "        vertical-align: middle;\n",
              "    }\n",
              "\n",
              "    .dataframe tbody tr th {\n",
              "        vertical-align: top;\n",
              "    }\n",
              "\n",
              "    .dataframe thead th {\n",
              "        text-align: right;\n",
              "    }\n",
              "</style>\n",
              "<table border=\"1\" class=\"dataframe\">\n",
              "  <thead>\n",
              "    <tr style=\"text-align: right;\">\n",
              "      <th></th>\n",
              "      <th>0</th>\n",
              "    </tr>\n",
              "  </thead>\n",
              "  <tbody>\n",
              "    <tr>\n",
              "      <th>55</th>\n",
              "      <td>told friend going party would enjoy came along...</td>\n",
              "    </tr>\n",
              "  </tbody>\n",
              "</table>\n",
              "</div>\n",
              "      <button class=\"colab-df-convert\" onclick=\"convertToInteractive('df-4bccd4c7-be75-452f-bcce-410f2a4588e4')\"\n",
              "              title=\"Convert this dataframe to an interactive table.\"\n",
              "              style=\"display:none;\">\n",
              "        \n",
              "  <svg xmlns=\"http://www.w3.org/2000/svg\" height=\"24px\"viewBox=\"0 0 24 24\"\n",
              "       width=\"24px\">\n",
              "    <path d=\"M0 0h24v24H0V0z\" fill=\"none\"/>\n",
              "    <path d=\"M18.56 5.44l.94 2.06.94-2.06 2.06-.94-2.06-.94-.94-2.06-.94 2.06-2.06.94zm-11 1L8.5 8.5l.94-2.06 2.06-.94-2.06-.94L8.5 2.5l-.94 2.06-2.06.94zm10 10l.94 2.06.94-2.06 2.06-.94-2.06-.94-.94-2.06-.94 2.06-2.06.94z\"/><path d=\"M17.41 7.96l-1.37-1.37c-.4-.4-.92-.59-1.43-.59-.52 0-1.04.2-1.43.59L10.3 9.45l-7.72 7.72c-.78.78-.78 2.05 0 2.83L4 21.41c.39.39.9.59 1.41.59.51 0 1.02-.2 1.41-.59l7.78-7.78 2.81-2.81c.8-.78.8-2.07 0-2.86zM5.41 20L4 18.59l7.72-7.72 1.47 1.35L5.41 20z\"/>\n",
              "  </svg>\n",
              "      </button>\n",
              "      \n",
              "  <style>\n",
              "    .colab-df-container {\n",
              "      display:flex;\n",
              "      flex-wrap:wrap;\n",
              "      gap: 12px;\n",
              "    }\n",
              "\n",
              "    .colab-df-convert {\n",
              "      background-color: #E8F0FE;\n",
              "      border: none;\n",
              "      border-radius: 50%;\n",
              "      cursor: pointer;\n",
              "      display: none;\n",
              "      fill: #1967D2;\n",
              "      height: 32px;\n",
              "      padding: 0 0 0 0;\n",
              "      width: 32px;\n",
              "    }\n",
              "\n",
              "    .colab-df-convert:hover {\n",
              "      background-color: #E2EBFA;\n",
              "      box-shadow: 0px 1px 2px rgba(60, 64, 67, 0.3), 0px 1px 3px 1px rgba(60, 64, 67, 0.15);\n",
              "      fill: #174EA6;\n",
              "    }\n",
              "\n",
              "    [theme=dark] .colab-df-convert {\n",
              "      background-color: #3B4455;\n",
              "      fill: #D2E3FC;\n",
              "    }\n",
              "\n",
              "    [theme=dark] .colab-df-convert:hover {\n",
              "      background-color: #434B5C;\n",
              "      box-shadow: 0px 1px 3px 1px rgba(0, 0, 0, 0.15);\n",
              "      filter: drop-shadow(0px 1px 2px rgba(0, 0, 0, 0.3));\n",
              "      fill: #FFFFFF;\n",
              "    }\n",
              "  </style>\n",
              "\n",
              "      <script>\n",
              "        const buttonEl =\n",
              "          document.querySelector('#df-4bccd4c7-be75-452f-bcce-410f2a4588e4 button.colab-df-convert');\n",
              "        buttonEl.style.display =\n",
              "          google.colab.kernel.accessAllowed ? 'block' : 'none';\n",
              "\n",
              "        async function convertToInteractive(key) {\n",
              "          const element = document.querySelector('#df-4bccd4c7-be75-452f-bcce-410f2a4588e4');\n",
              "          const dataTable =\n",
              "            await google.colab.kernel.invokeFunction('convertToInteractive',\n",
              "                                                     [key], {});\n",
              "          if (!dataTable) return;\n",
              "\n",
              "          const docLinkHtml = 'Like what you see? Visit the ' +\n",
              "            '<a target=\"_blank\" href=https://colab.research.google.com/notebooks/data_table.ipynb>data table notebook</a>'\n",
              "            + ' to learn more about interactive tables.';\n",
              "          element.innerHTML = '';\n",
              "          dataTable['output_type'] = 'display_data';\n",
              "          await google.colab.output.renderOutput(dataTable, element);\n",
              "          const docLink = document.createElement('div');\n",
              "          docLink.innerHTML = docLinkHtml;\n",
              "          element.appendChild(docLink);\n",
              "        }\n",
              "      </script>\n",
              "    </div>\n",
              "  </div>\n",
              "  "
            ]
          },
          "metadata": {},
          "execution_count": 59
        }
      ]
    },
    {
      "cell_type": "code",
      "source": [
        "emotion_labels[55]"
      ],
      "metadata": {
        "colab": {
          "base_uri": "https://localhost:8080/",
          "height": 36
        },
        "id": "qPnxHRVUvRf2",
        "outputId": "3cf80f17-7dd7-4a86-f99c-2f1c030c5d1d"
      },
      "execution_count": 60,
      "outputs": [
        {
          "output_type": "execute_result",
          "data": {
            "text/plain": [
              "'shame'"
            ],
            "application/vnd.google.colaboratory.intrinsic+json": {
              "type": "string"
            }
          },
          "metadata": {},
          "execution_count": 60
        }
      ]
    },
    {
      "cell_type": "code",
      "source": [
        "# Now that we have both the preprocessed sentences and emotion labels, we now start building the neural network to train this."
      ],
      "metadata": {
        "id": "1ACh_n30SK0w"
      },
      "execution_count": null,
      "outputs": []
    },
    {
      "cell_type": "code",
      "source": [
        "from tensorflow.keras import layers"
      ],
      "metadata": {
        "id": "76TJKIBXSbkz"
      },
      "execution_count": 62,
      "outputs": []
    },
    {
      "cell_type": "code",
      "source": [
        "from sklearn.feature_extraction.text import TfidfVectorizer"
      ],
      "metadata": {
        "id": "6YSrjcV6O7cX"
      },
      "execution_count": 63,
      "outputs": []
    },
    {
      "cell_type": "code",
      "source": [
        "preprocessed_sentences[0]"
      ],
      "metadata": {
        "colab": {
          "base_uri": "https://localhost:8080/"
        },
        "id": "C_iRBw0TN1gS",
        "outputId": "06f16e5a-8a93-4fc3-9278-f26600e39b39"
      },
      "execution_count": 64,
      "outputs": [
        {
          "output_type": "execute_result",
          "data": {
            "text/plain": [
              "0       every time imagine someone love could contact ...\n",
              "1       obviously unjustly treated possibility elucida...\n",
              "2       think short time live relate periods life thin...\n",
              "3       gathering found involuntarily sitting next two...\n",
              "4       realized directing feelings discontent partner...\n",
              "                              ...                        \n",
              "7440    last week planned play tennis booked tennis co...\n",
              "7441                        ill stay hospital period time\n",
              "7442    days back waiting bus bus stop getting bus pre...\n",
              "7443    days back tutorial class teacher randomly assi...\n",
              "7444     quarrelled sister deliberately messed belongings\n",
              "Name: 0, Length: 7445, dtype: object"
            ]
          },
          "metadata": {},
          "execution_count": 64
        }
      ]
    },
    {
      "cell_type": "code",
      "source": [
        "'''# TRIAL CODE BLOCK TO VERIFY THE WORKING OF TFIDF VECTORIZER\n",
        "\n",
        "from sklearn.feature_extraction.text import TfidfVectorizer\n",
        "corpus = ['This is the first document.',\n",
        "    'This document is the second document.',\n",
        "    'And this is the third one.',\n",
        "    'Is this the first document?',\n",
        "]\n",
        "vectorizer = TfidfVectorizer()\n",
        "X = vectorizer.fit_transform(corpus)\n",
        "vectorizer.get_feature_names_out()\n",
        "\n",
        "trial = X.toarray()\n",
        "trialdf = pd.DataFrame(trial)'''"
      ],
      "metadata": {
        "id": "hY89aJgIOVnB"
      },
      "execution_count": null,
      "outputs": []
    },
    {
      "cell_type": "code",
      "source": [
        "vectorizer = TfidfVectorizer(lowercase=False, max_features = 5000)\n",
        "vectorized_sentences = vectorizer.fit_transform(preprocessed_sentences[0])"
      ],
      "metadata": {
        "id": "hRH2Jq8kPKym"
      },
      "execution_count": 65,
      "outputs": []
    },
    {
      "cell_type": "code",
      "source": [
        "preprocessed_sentences[0]"
      ],
      "metadata": {
        "colab": {
          "base_uri": "https://localhost:8080/"
        },
        "id": "SHke-MUVRVhy",
        "outputId": "12999f83-aaff-47e3-fadb-1c055474bc88"
      },
      "execution_count": 66,
      "outputs": [
        {
          "output_type": "execute_result",
          "data": {
            "text/plain": [
              "0       every time imagine someone love could contact ...\n",
              "1       obviously unjustly treated possibility elucida...\n",
              "2       think short time live relate periods life thin...\n",
              "3       gathering found involuntarily sitting next two...\n",
              "4       realized directing feelings discontent partner...\n",
              "                              ...                        \n",
              "7440    last week planned play tennis booked tennis co...\n",
              "7441                        ill stay hospital period time\n",
              "7442    days back waiting bus bus stop getting bus pre...\n",
              "7443    days back tutorial class teacher randomly assi...\n",
              "7444     quarrelled sister deliberately messed belongings\n",
              "Name: 0, Length: 7445, dtype: object"
            ]
          },
          "metadata": {},
          "execution_count": 66
        }
      ]
    },
    {
      "cell_type": "code",
      "source": [
        "type(vectorized_sentences)"
      ],
      "metadata": {
        "colab": {
          "base_uri": "https://localhost:8080/"
        },
        "id": "ofIFgThY9VNF",
        "outputId": "81d300f7-9e78-4399-ed41-77e6687ed41e"
      },
      "execution_count": 67,
      "outputs": [
        {
          "output_type": "execute_result",
          "data": {
            "text/plain": [
              "scipy.sparse._csr.csr_matrix"
            ]
          },
          "metadata": {},
          "execution_count": 67
        }
      ]
    },
    {
      "cell_type": "code",
      "source": [
        "print(vectorized_sentences)"
      ],
      "metadata": {
        "id": "bcOeFg4y8ySb"
      },
      "execution_count": null,
      "outputs": []
    },
    {
      "cell_type": "code",
      "source": [
        "x_input = []\n",
        "x_input = vectorized_sentences.toarray()"
      ],
      "metadata": {
        "id": "B6b0dSmURvsO"
      },
      "execution_count": 69,
      "outputs": []
    },
    {
      "cell_type": "markdown",
      "source": [
        "LABEL RESHAPING"
      ],
      "metadata": {
        "id": "FtcSKeGfq52G"
      }
    },
    {
      "cell_type": "code",
      "source": [
        "labels_reshaped = emotion_labels.values.reshape(-1, 1)"
      ],
      "metadata": {
        "id": "GNZukZqkBsYj"
      },
      "execution_count": 70,
      "outputs": []
    },
    {
      "cell_type": "markdown",
      "source": [
        "ONE HOT ENCODING THE LABEL VARIABLES"
      ],
      "metadata": {
        "id": "8zR5Rzqev_-3"
      }
    },
    {
      "cell_type": "code",
      "source": [
        "from sklearn.preprocessing import OneHotEncoder\n",
        "ohe = OneHotEncoder(sparse_output=True)\n",
        "encoded_emotion_labels = ohe.fit_transform(labels_reshaped).toarray()"
      ],
      "metadata": {
        "id": "rHQpK95j-TwR"
      },
      "execution_count": 81,
      "outputs": []
    },
    {
      "cell_type": "code",
      "source": [
        "ohe.categories_"
      ],
      "metadata": {
        "colab": {
          "base_uri": "https://localhost:8080/"
        },
        "id": "qmpPi64LFLIS",
        "outputId": "be8c29be-0f5a-4222-8393-d149fe9949fe"
      },
      "execution_count": 82,
      "outputs": [
        {
          "output_type": "execute_result",
          "data": {
            "text/plain": [
              "[array(['anger', 'disgust', 'fear', 'guilt', 'joy', 'sadness', 'shame'],\n",
              "       dtype=object)]"
            ]
          },
          "metadata": {},
          "execution_count": 82
        }
      ]
    },
    {
      "cell_type": "code",
      "source": [
        "labels = ohe.categories_\n",
        "label_columns = np.array(labels).ravel()"
      ],
      "metadata": {
        "id": "XSyqwHUvou3O"
      },
      "execution_count": 83,
      "outputs": []
    },
    {
      "cell_type": "code",
      "source": [
        "finaldf = pd.DataFrame(x_input)\n",
        "finaldf[label_columns] = encoded_emotion_labels"
      ],
      "metadata": {
        "id": "japoIfse0VT6"
      },
      "execution_count": 97,
      "outputs": []
    },
    {
      "cell_type": "code",
      "source": [
        "X = finaldf[finaldf.columns[0:5000]]\n",
        "y = finaldf[finaldf.columns[5000:]]"
      ],
      "metadata": {
        "id": "MX-gW7V9w0A7"
      },
      "execution_count": 98,
      "outputs": []
    },
    {
      "cell_type": "code",
      "source": [
        "#Train test split\n",
        "X_train, X_test, Y_train, Y_test = train_test_split(X, y, test_size = 0.3)"
      ],
      "metadata": {
        "id": "-8DB7kb6w7dq"
      },
      "execution_count": 142,
      "outputs": []
    },
    {
      "cell_type": "markdown",
      "source": [
        "**NEURAL NETWORK PORTION**\n"
      ],
      "metadata": {
        "id": "bR1iGRad6Myy"
      }
    },
    {
      "cell_type": "code",
      "source": [
        "train_accuracies = []\n",
        "val_accuracies = []"
      ],
      "metadata": {
        "id": "ZF7ZUwsZ1QyU"
      },
      "execution_count": 143,
      "outputs": []
    },
    {
      "cell_type": "code",
      "source": [
        "output_dim = 7\n",
        "EPOCHS = 25\n",
        "VALSPLIT = 0.2\n",
        "LAYER_ACTIVATION = 'softmax'\n",
        "\n",
        "model = tensorflow.keras.Sequential([\n",
        "  layers.InputLayer(input_shape = (5000, )),\n",
        "  layers.Dense(125, activation = LAYER_ACTIVATION),\n",
        "  layers.Dropout(0.5),\n",
        "  layers.Dense(125, activation = LAYER_ACTIVATION),\n",
        "  layers.Dropout(0.5),\n",
        "  layers.Dense(125, activation = LAYER_ACTIVATION),\n",
        "  layers.Dense(output_dim)])\n",
        "\n",
        "model.compile(optimizer = 'adam',\n",
        "              loss = 'categorical_crossentropy',\n",
        "              metrics = 'accuracy')\n",
        "\n",
        "hist = model.fit(x = X_train, \n",
        "                 y = Y_train,\n",
        "                 batch_size = 32,\n",
        "                 epochs = EPOCHS,\n",
        "                 validation_split = VALSPLIT)"
      ],
      "metadata": {
        "id": "-frj1IuiF8Hy",
        "colab": {
          "base_uri": "https://localhost:8080/"
        },
        "outputId": "0e7c466b-0ff0-4424-a73a-d57934470d91"
      },
      "execution_count": 155,
      "outputs": [
        {
          "output_type": "stream",
          "name": "stdout",
          "text": [
            "Epoch 1/25\n",
            "131/131 [==============================] - 4s 17ms/step - loss: 9.1109 - accuracy: 0.1408 - val_loss: 9.4731 - val_accuracy: 0.1448\n",
            "Epoch 2/25\n",
            "131/131 [==============================] - 2s 14ms/step - loss: 9.1109 - accuracy: 0.1408 - val_loss: 9.4731 - val_accuracy: 0.1448\n",
            "Epoch 3/25\n",
            "131/131 [==============================] - 2s 17ms/step - loss: 9.1109 - accuracy: 0.1408 - val_loss: 9.4731 - val_accuracy: 0.1448\n",
            "Epoch 4/25\n",
            "131/131 [==============================] - 2s 17ms/step - loss: 9.1109 - accuracy: 0.1408 - val_loss: 9.4731 - val_accuracy: 0.1448\n",
            "Epoch 5/25\n",
            "131/131 [==============================] - 2s 13ms/step - loss: 9.1109 - accuracy: 0.1408 - val_loss: 9.4731 - val_accuracy: 0.1448\n",
            "Epoch 6/25\n",
            "131/131 [==============================] - 2s 13ms/step - loss: 9.1109 - accuracy: 0.1408 - val_loss: 9.4731 - val_accuracy: 0.1448\n",
            "Epoch 7/25\n",
            "131/131 [==============================] - 2s 14ms/step - loss: 9.1109 - accuracy: 0.1408 - val_loss: 9.4731 - val_accuracy: 0.1448\n",
            "Epoch 8/25\n",
            "131/131 [==============================] - 2s 14ms/step - loss: 9.1109 - accuracy: 0.1408 - val_loss: 9.4731 - val_accuracy: 0.1448\n",
            "Epoch 9/25\n",
            "131/131 [==============================] - 2s 14ms/step - loss: 9.1109 - accuracy: 0.1408 - val_loss: 9.4731 - val_accuracy: 0.1448\n",
            "Epoch 10/25\n",
            "131/131 [==============================] - 2s 18ms/step - loss: 9.1109 - accuracy: 0.1408 - val_loss: 9.4731 - val_accuracy: 0.1448\n",
            "Epoch 11/25\n",
            "131/131 [==============================] - 2s 16ms/step - loss: 9.1109 - accuracy: 0.1408 - val_loss: 9.4731 - val_accuracy: 0.1448\n",
            "Epoch 12/25\n",
            "131/131 [==============================] - 2s 13ms/step - loss: 9.1109 - accuracy: 0.1408 - val_loss: 9.4731 - val_accuracy: 0.1448\n",
            "Epoch 13/25\n",
            "131/131 [==============================] - 2s 13ms/step - loss: 9.1109 - accuracy: 0.1408 - val_loss: 9.4731 - val_accuracy: 0.1448\n",
            "Epoch 14/25\n",
            "131/131 [==============================] - 2s 13ms/step - loss: 9.1109 - accuracy: 0.1408 - val_loss: 9.4731 - val_accuracy: 0.1448\n",
            "Epoch 15/25\n",
            "131/131 [==============================] - 2s 13ms/step - loss: 9.1109 - accuracy: 0.1408 - val_loss: 9.4731 - val_accuracy: 0.1448\n",
            "Epoch 16/25\n",
            "131/131 [==============================] - 2s 13ms/step - loss: 9.1109 - accuracy: 0.1408 - val_loss: 9.4731 - val_accuracy: 0.1448\n",
            "Epoch 17/25\n",
            "131/131 [==============================] - 3s 19ms/step - loss: 9.1109 - accuracy: 0.1408 - val_loss: 9.4731 - val_accuracy: 0.1448\n",
            "Epoch 18/25\n",
            "131/131 [==============================] - 2s 15ms/step - loss: 9.1109 - accuracy: 0.1408 - val_loss: 9.4731 - val_accuracy: 0.1448\n",
            "Epoch 19/25\n",
            "131/131 [==============================] - 2s 13ms/step - loss: 9.1109 - accuracy: 0.1408 - val_loss: 9.4731 - val_accuracy: 0.1448\n",
            "Epoch 20/25\n",
            "131/131 [==============================] - 2s 15ms/step - loss: 9.1109 - accuracy: 0.1408 - val_loss: 9.4731 - val_accuracy: 0.1448\n",
            "Epoch 21/25\n",
            "131/131 [==============================] - 2s 13ms/step - loss: 9.1109 - accuracy: 0.1408 - val_loss: 9.4731 - val_accuracy: 0.1448\n",
            "Epoch 22/25\n",
            "131/131 [==============================] - 2s 13ms/step - loss: 9.1109 - accuracy: 0.1408 - val_loss: 9.4731 - val_accuracy: 0.1448\n",
            "Epoch 23/25\n",
            "131/131 [==============================] - 2s 16ms/step - loss: 9.1109 - accuracy: 0.1408 - val_loss: 9.4731 - val_accuracy: 0.1448\n",
            "Epoch 24/25\n",
            "131/131 [==============================] - 2s 18ms/step - loss: 9.1109 - accuracy: 0.1408 - val_loss: 9.4731 - val_accuracy: 0.1448\n",
            "Epoch 25/25\n",
            "131/131 [==============================] - 2s 13ms/step - loss: 9.1109 - accuracy: 0.1408 - val_loss: 9.4731 - val_accuracy: 0.1448\n"
          ]
        }
      ]
    },
    {
      "cell_type": "code",
      "source": [
        "results = model.evaluate(X_test, Y_test)\n",
        "results"
      ],
      "metadata": {
        "colab": {
          "base_uri": "https://localhost:8080/"
        },
        "id": "eJrKXQNFzDaR",
        "outputId": "64ecf18c-898e-4c1f-d657-0c189775e5e8"
      },
      "execution_count": 145,
      "outputs": [
        {
          "output_type": "stream",
          "name": "stdout",
          "text": [
            "70/70 [==============================] - 0s 5ms/step - loss: 1.2978 - accuracy: 0.5116\n"
          ]
        },
        {
          "output_type": "execute_result",
          "data": {
            "text/plain": [
              "[1.2977524995803833, 0.511638343334198]"
            ]
          },
          "metadata": {},
          "execution_count": 145
        }
      ]
    },
    {
      "cell_type": "code",
      "source": [
        "print(hist.history['val_accuracy'])"
      ],
      "metadata": {
        "colab": {
          "base_uri": "https://localhost:8080/"
        },
        "id": "HU7H9e0r01on",
        "outputId": "4d321180-c2b2-4dd6-c562-f1fd6c97e03d"
      },
      "execution_count": 146,
      "outputs": [
        {
          "output_type": "stream",
          "name": "stdout",
          "text": [
            "[0.45062321424484253, 0.5225311517715454, 0.5330776572227478, 0.539789080619812, 0.5302013158798218, 0.5474592447280884, 0.5417066216468811, 0.5196548700332642, 0.5167785286903381, 0.5014381408691406, 0.5023969411849976, 0.5062320232391357, 0.5081495642662048, 0.5081495642662048, 0.5081495642662048, 0.49760305881500244, 0.49760305881500244, 0.5014381408691406, 0.49952059984207153, 0.4899328947067261, 0.4822627007961273, 0.488015353679657, 0.5023969411849976, 0.49760305881500244, 0.49568551778793335]\n"
          ]
        }
      ]
    },
    {
      "cell_type": "code",
      "source": [
        "train_accuracies.extend(hist.history['accuracy'])\n",
        "val_accuracies.extend(hist.history['val_accuracy'])"
      ],
      "metadata": {
        "id": "lFbtyUG21Don"
      },
      "execution_count": 147,
      "outputs": []
    },
    {
      "cell_type": "code",
      "source": [
        "plt.plot(hist.history['accuracy'], label = 'Training Accuracy')\n",
        "plt.plot(hist.history['val_accuracy'], label = 'Validation Accuracy')\n",
        "plt.legend()"
      ],
      "metadata": {
        "colab": {
          "base_uri": "https://localhost:8080/",
          "height": 448
        },
        "id": "dAybGl12-DS2",
        "outputId": "15080ebf-c5c5-44b1-c612-0e9d43b3daf4"
      },
      "execution_count": 148,
      "outputs": [
        {
          "output_type": "execute_result",
          "data": {
            "text/plain": [
              "<matplotlib.legend.Legend at 0x7f6f54c0d490>"
            ]
          },
          "metadata": {},
          "execution_count": 148
        },
        {
          "output_type": "display_data",
          "data": {
            "text/plain": [
              "<Figure size 640x480 with 1 Axes>"
            ],
            "image/png": "[encoded data removed]"
          },
          "metadata": {}
        }
      ]
    },
    {
      "cell_type": "code",
      "source": [
        "plt.plot(hist.history['loss'], label = 'Training loss')\n",
        "plt.plot(hist.history['val_loss'], label = 'Validation Loss')\n",
        "plt.legend()"
      ],
      "metadata": {
        "colab": {
          "base_uri": "https://localhost:8080/",
          "height": 448
        },
        "id": "98vrbgpLy_JP",
        "outputId": "a8a47a5f-4c95-4d07-8b20-5bc89dd4e4c5"
      },
      "execution_count": 149,
      "outputs": [
        {
          "output_type": "execute_result",
          "data": {
            "text/plain": [
              "<matplotlib.legend.Legend at 0x7f6f54beec40>"
            ]
          },
          "metadata": {},
          "execution_count": 149
        },
        {
          "output_type": "display_data",
          "data": {
            "text/plain": [
              "<Figure size 640x480 with 1 Axes>"
            ],
            "image/png": "[encoded data removed]"
          },
          "metadata": {}
        }
      ]
    },
    {
      "cell_type": "code",
      "source": [],
      "metadata": {
        "id": "FxMjetYi90Wu"
      },
      "execution_count": 149,
      "outputs": []
    }
  ]
}